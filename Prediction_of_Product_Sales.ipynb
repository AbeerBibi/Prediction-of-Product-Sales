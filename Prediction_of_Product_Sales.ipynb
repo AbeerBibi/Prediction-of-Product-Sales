{
  "nbformat": 4,
  "nbformat_minor": 0,
  "metadata": {
    "colab": {
      "provenance": [],
      "authorship_tag": "ABX9TyP0B9NyWbajUxD6oF3pQnt5",
      "include_colab_link": true
    },
    "kernelspec": {
      "name": "python3",
      "display_name": "Python 3"
    },
    "language_info": {
      "name": "python"
    }
  },
  "cells": [
    {
      "cell_type": "markdown",
      "metadata": {
        "id": "view-in-github",
        "colab_type": "text"
      },
      "source": [
        "<a href=\"https://colab.research.google.com/github/AbeerBibi/Prediction-of-Product-Sales/blob/main/Prediction_of_Product_Sales.ipynb\" target=\"_parent\"><img src=\"https://colab.research.google.com/assets/colab-badge.svg\" alt=\"Open In Colab\"/></a>"
      ]
    },
    {
      "cell_type": "markdown",
      "source": [
        "# Prediction of Product Sales"
      ],
      "metadata": {
        "id": "SOeTFkF53a_f"
      }
    },
    {
      "cell_type": "markdown",
      "source": [
        "- Author: Abeer Bibi"
      ],
      "metadata": {
        "id": "qC6srFml3iOu"
      }
    },
    {
      "cell_type": "markdown",
      "source": [
        "## Project Overview\n",
        "Double click (or enter to edit)"
      ],
      "metadata": {
        "id": "3CnVh83S33d1"
      }
    },
    {
      "cell_type": "markdown",
      "source": [
        "## Load and Inspect Data"
      ],
      "metadata": {
        "id": "LUjW4WKL5Jat"
      }
    },
    {
      "cell_type": "code",
      "source": [],
      "metadata": {
        "id": "tPesJhOI49YE"
      },
      "execution_count": null,
      "outputs": []
    },
    {
      "cell_type": "markdown",
      "source": [
        "## Clean Data"
      ],
      "metadata": {
        "id": "X7IuamV_5V7g"
      }
    },
    {
      "cell_type": "code",
      "source": [],
      "metadata": {
        "id": "sDeBvYT95XQW"
      },
      "execution_count": null,
      "outputs": []
    },
    {
      "cell_type": "markdown",
      "source": [
        "## Exploratory Data Analysis"
      ],
      "metadata": {
        "id": "0_8qTtnI5Xkl"
      }
    },
    {
      "cell_type": "code",
      "source": [],
      "metadata": {
        "id": "i-fZgxij5c3O"
      },
      "execution_count": null,
      "outputs": []
    },
    {
      "cell_type": "markdown",
      "source": [
        "## Feature Inspection"
      ],
      "metadata": {
        "id": "Qsvc-7Pe5dEh"
      }
    },
    {
      "cell_type": "code",
      "source": [],
      "metadata": {
        "id": "L5vPFtUu5v99"
      },
      "execution_count": null,
      "outputs": []
    }
  ]
}