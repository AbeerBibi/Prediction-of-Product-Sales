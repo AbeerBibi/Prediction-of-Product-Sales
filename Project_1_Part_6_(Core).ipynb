{
  "nbformat": 4,
  "nbformat_minor": 0,
  "metadata": {
    "colab": {
      "provenance": [],
      "collapsed_sections": [
        "t0jn_mgAD3Jw",
        "DJCqBQuKEQMS"
      ],
      "mount_file_id": "1k_BOTn6eicx9dyhnXj-Hh_2-a_NZUOZU",
      "authorship_tag": "ABX9TyMeIYtrDzfx5bfyiYckHYps",
      "include_colab_link": true
    },
    "kernelspec": {
      "name": "python3",
      "display_name": "Python 3"
    },
    "language_info": {
      "name": "python"
    }
  },
  "cells": [
    {
      "cell_type": "markdown",
      "metadata": {
        "id": "view-in-github",
        "colab_type": "text"
      },
      "source": [
        "<a href=\"https://colab.research.google.com/github/AbeerBibi/Prediction-of-Product-Sales/blob/main/Project_1_Part_6_(Core).ipynb\" target=\"_parent\"><img src=\"https://colab.research.google.com/assets/colab-badge.svg\" alt=\"Open In Colab\"/></a>"
      ]
    },
    {
      "cell_type": "markdown",
      "source": [
        "#Project 1 - Part 6 (Core):\n",
        "This week, you will add modeling to your sales prediction project. The goal of this is to help the retailer understand the properties of products and outlets that play crucial roles in predicting sales"
      ],
      "metadata": {
        "id": "t0jn_mgAD3Jw"
      }
    },
    {
      "cell_type": "markdown",
      "source": [
        "\n",
        "\n",
        "---\n",
        "\n"
      ],
      "metadata": {
        "id": "ynIixwHbEO2z"
      }
    },
    {
      "cell_type": "markdown",
      "source": [
        "#Import libraries, call evaluation function, load the data"
      ],
      "metadata": {
        "id": "DJCqBQuKEQMS"
      }
    },
    {
      "cell_type": "code",
      "source": [
        "import matplotlib.pyplot as plt\n",
        "import pandas as pd\n",
        "from sklearn.linear_model import LinearRegression\n",
        "from sklearn.model_selection import train_test_split, GridSearchCV\n",
        "from sklearn.preprocessing import OneHotEncoder, StandardScaler, OrdinalEncoder\n",
        "from sklearn.impute import SimpleImputer\n",
        "from sklearn.pipeline import make_pipeline\n",
        "from sklearn.compose import ColumnTransformer\n",
        "from sklearn.ensemble import RandomForestRegressor # NEW\n",
        "from sklearn import set_config\n",
        "from sklearn.ensemble import BaggingRegressor\n",
        "set_config(transform_output='pandas')"
      ],
      "metadata": {
        "id": "ZwJ48xidEV3q"
      },
      "execution_count": null,
      "outputs": []
    },
    {
      "cell_type": "code",
      "source": [
        "from sklearn.metrics import mean_squared_error, mean_absolute_error, r2_score\n",
        "def regression_metrics(y_true, y_pred, label='', verbose = True, output_dict=False):\n",
        "  # Get metrics\n",
        "  mae = mean_absolute_error(y_true, y_pred)\n",
        "  mse = mean_squared_error(y_true, y_pred)\n",
        "  rmse = mean_squared_error(y_true, y_pred, squared=False)\n",
        "  r_squared = r2_score(y_true, y_pred)\n",
        "  if verbose == True:\n",
        "    # Print Result with Label and Header\n",
        "    header = \"-\"*60\n",
        "    print(header, f\"Regression Metrics: {label}\", header, sep='\\n')\n",
        "    print(f\"- MAE = {mae:,.3f}\")\n",
        "    print(f\"- MSE = {mse:,.3f}\")\n",
        "    print(f\"- RMSE = {rmse:,.3f}\")\n",
        "    print(f\"- R^2 = {r_squared:,.3f}\")\n",
        "  if output_dict == True:\n",
        "      metrics = {'Label':label, 'MAE':mae,\n",
        "                 'MSE':mse, 'RMSE':rmse, 'R^2':r_squared}\n",
        "      return metrics\n",
        "def evaluate_regression(reg, X_train, y_train, X_test, y_test, verbose = True,\n",
        "                        output_frame=False):\n",
        "  # Get predictions for training data\n",
        "  y_train_pred = reg.predict(X_train)\n",
        "  # Call the helper function to obtain regression metrics for training data\n",
        "  results_train = regression_metrics(y_train, y_train_pred, verbose = verbose,\n",
        "                                     output_dict=output_frame,\n",
        "                                     label='Training Data')\n",
        "  print()\n",
        "  # Get predictions for test data\n",
        "  y_test_pred = reg.predict(X_test)\n",
        "  # Call the helper function to obtain regression metrics for test data\n",
        "  results_test = regression_metrics(y_test, y_test_pred, verbose = verbose,\n",
        "                                  output_dict=output_frame,\n",
        "                                    label='Test Data' )\n",
        "  # Store results in a dataframe if ouput_frame is True\n",
        "  if output_frame:\n",
        "    results_df = pd.DataFrame([results_train,results_test])\n",
        "    # Set the label as the index\n",
        "    results_df = results_df.set_index('Label')\n",
        "    # Set index.name to none to get a cleaner looking result\n",
        "    results_df.index.name=None\n",
        "    # Return the dataframe\n",
        "    return results_df.round(3)"
      ],
      "metadata": {
        "id": "Z84-UXQY3f9M"
      },
      "execution_count": null,
      "outputs": []
    },
    {
      "cell_type": "code",
      "source": [
        "# Load data directly from url\n",
        "df = pd.read_csv('/content/drive/MyDrive/CodingDojo/02-IntroML/Week05/Data/sales_predictions_2023.csv')\n",
        "df.head()"
      ],
      "metadata": {
        "colab": {
          "base_uri": "https://localhost:8080/",
          "height": 293
        },
        "id": "W82qn-wYFJsF",
        "outputId": "13985a2f-95a8-496f-ebe9-4d2c1263bc70"
      },
      "execution_count": null,
      "outputs": [
        {
          "output_type": "execute_result",
          "data": {
            "text/plain": [
              "  Item_Identifier  Item_Weight Item_Fat_Content  Item_Visibility  \\\n",
              "0           FDA15         9.30          Low Fat         0.016047   \n",
              "1           DRC01         5.92          Regular         0.019278   \n",
              "2           FDN15        17.50          Low Fat         0.016760   \n",
              "3           FDX07        19.20          Regular         0.000000   \n",
              "4           NCD19         8.93          Low Fat         0.000000   \n",
              "\n",
              "               Item_Type  Item_MRP Outlet_Identifier  \\\n",
              "0                  Dairy  249.8092            OUT049   \n",
              "1            Soft Drinks   48.2692            OUT018   \n",
              "2                   Meat  141.6180            OUT049   \n",
              "3  Fruits and Vegetables  182.0950            OUT010   \n",
              "4              Household   53.8614            OUT013   \n",
              "\n",
              "   Outlet_Establishment_Year Outlet_Size Outlet_Location_Type  \\\n",
              "0                       1999      Medium               Tier 1   \n",
              "1                       2009      Medium               Tier 3   \n",
              "2                       1999      Medium               Tier 1   \n",
              "3                       1998         NaN               Tier 3   \n",
              "4                       1987        High               Tier 3   \n",
              "\n",
              "         Outlet_Type  Item_Outlet_Sales  \n",
              "0  Supermarket Type1          3735.1380  \n",
              "1  Supermarket Type2           443.4228  \n",
              "2  Supermarket Type1          2097.2700  \n",
              "3      Grocery Store           732.3800  \n",
              "4  Supermarket Type1           994.7052  "
            ],
            "text/html": [
              "\n",
              "  <div id=\"df-449cbc34-8c4c-43d1-817b-6230f28af294\" class=\"colab-df-container\">\n",
              "    <div>\n",
              "<style scoped>\n",
              "    .dataframe tbody tr th:only-of-type {\n",
              "        vertical-align: middle;\n",
              "    }\n",
              "\n",
              "    .dataframe tbody tr th {\n",
              "        vertical-align: top;\n",
              "    }\n",
              "\n",
              "    .dataframe thead th {\n",
              "        text-align: right;\n",
              "    }\n",
              "</style>\n",
              "<table border=\"1\" class=\"dataframe\">\n",
              "  <thead>\n",
              "    <tr style=\"text-align: right;\">\n",
              "      <th></th>\n",
              "      <th>Item_Identifier</th>\n",
              "      <th>Item_Weight</th>\n",
              "      <th>Item_Fat_Content</th>\n",
              "      <th>Item_Visibility</th>\n",
              "      <th>Item_Type</th>\n",
              "      <th>Item_MRP</th>\n",
              "      <th>Outlet_Identifier</th>\n",
              "      <th>Outlet_Establishment_Year</th>\n",
              "      <th>Outlet_Size</th>\n",
              "      <th>Outlet_Location_Type</th>\n",
              "      <th>Outlet_Type</th>\n",
              "      <th>Item_Outlet_Sales</th>\n",
              "    </tr>\n",
              "  </thead>\n",
              "  <tbody>\n",
              "    <tr>\n",
              "      <th>0</th>\n",
              "      <td>FDA15</td>\n",
              "      <td>9.30</td>\n",
              "      <td>Low Fat</td>\n",
              "      <td>0.016047</td>\n",
              "      <td>Dairy</td>\n",
              "      <td>249.8092</td>\n",
              "      <td>OUT049</td>\n",
              "      <td>1999</td>\n",
              "      <td>Medium</td>\n",
              "      <td>Tier 1</td>\n",
              "      <td>Supermarket Type1</td>\n",
              "      <td>3735.1380</td>\n",
              "    </tr>\n",
              "    <tr>\n",
              "      <th>1</th>\n",
              "      <td>DRC01</td>\n",
              "      <td>5.92</td>\n",
              "      <td>Regular</td>\n",
              "      <td>0.019278</td>\n",
              "      <td>Soft Drinks</td>\n",
              "      <td>48.2692</td>\n",
              "      <td>OUT018</td>\n",
              "      <td>2009</td>\n",
              "      <td>Medium</td>\n",
              "      <td>Tier 3</td>\n",
              "      <td>Supermarket Type2</td>\n",
              "      <td>443.4228</td>\n",
              "    </tr>\n",
              "    <tr>\n",
              "      <th>2</th>\n",
              "      <td>FDN15</td>\n",
              "      <td>17.50</td>\n",
              "      <td>Low Fat</td>\n",
              "      <td>0.016760</td>\n",
              "      <td>Meat</td>\n",
              "      <td>141.6180</td>\n",
              "      <td>OUT049</td>\n",
              "      <td>1999</td>\n",
              "      <td>Medium</td>\n",
              "      <td>Tier 1</td>\n",
              "      <td>Supermarket Type1</td>\n",
              "      <td>2097.2700</td>\n",
              "    </tr>\n",
              "    <tr>\n",
              "      <th>3</th>\n",
              "      <td>FDX07</td>\n",
              "      <td>19.20</td>\n",
              "      <td>Regular</td>\n",
              "      <td>0.000000</td>\n",
              "      <td>Fruits and Vegetables</td>\n",
              "      <td>182.0950</td>\n",
              "      <td>OUT010</td>\n",
              "      <td>1998</td>\n",
              "      <td>NaN</td>\n",
              "      <td>Tier 3</td>\n",
              "      <td>Grocery Store</td>\n",
              "      <td>732.3800</td>\n",
              "    </tr>\n",
              "    <tr>\n",
              "      <th>4</th>\n",
              "      <td>NCD19</td>\n",
              "      <td>8.93</td>\n",
              "      <td>Low Fat</td>\n",
              "      <td>0.000000</td>\n",
              "      <td>Household</td>\n",
              "      <td>53.8614</td>\n",
              "      <td>OUT013</td>\n",
              "      <td>1987</td>\n",
              "      <td>High</td>\n",
              "      <td>Tier 3</td>\n",
              "      <td>Supermarket Type1</td>\n",
              "      <td>994.7052</td>\n",
              "    </tr>\n",
              "  </tbody>\n",
              "</table>\n",
              "</div>\n",
              "    <div class=\"colab-df-buttons\">\n",
              "\n",
              "  <div class=\"colab-df-container\">\n",
              "    <button class=\"colab-df-convert\" onclick=\"convertToInteractive('df-449cbc34-8c4c-43d1-817b-6230f28af294')\"\n",
              "            title=\"Convert this dataframe to an interactive table.\"\n",
              "            style=\"display:none;\">\n",
              "\n",
              "  <svg xmlns=\"http://www.w3.org/2000/svg\" height=\"24px\" viewBox=\"0 -960 960 960\">\n",
              "    <path d=\"M120-120v-720h720v720H120Zm60-500h600v-160H180v160Zm220 220h160v-160H400v160Zm0 220h160v-160H400v160ZM180-400h160v-160H180v160Zm440 0h160v-160H620v160ZM180-180h160v-160H180v160Zm440 0h160v-160H620v160Z\"/>\n",
              "  </svg>\n",
              "    </button>\n",
              "\n",
              "  <style>\n",
              "    .colab-df-container {\n",
              "      display:flex;\n",
              "      gap: 12px;\n",
              "    }\n",
              "\n",
              "    .colab-df-convert {\n",
              "      background-color: #E8F0FE;\n",
              "      border: none;\n",
              "      border-radius: 50%;\n",
              "      cursor: pointer;\n",
              "      display: none;\n",
              "      fill: #1967D2;\n",
              "      height: 32px;\n",
              "      padding: 0 0 0 0;\n",
              "      width: 32px;\n",
              "    }\n",
              "\n",
              "    .colab-df-convert:hover {\n",
              "      background-color: #E2EBFA;\n",
              "      box-shadow: 0px 1px 2px rgba(60, 64, 67, 0.3), 0px 1px 3px 1px rgba(60, 64, 67, 0.15);\n",
              "      fill: #174EA6;\n",
              "    }\n",
              "\n",
              "    .colab-df-buttons div {\n",
              "      margin-bottom: 4px;\n",
              "    }\n",
              "\n",
              "    [theme=dark] .colab-df-convert {\n",
              "      background-color: #3B4455;\n",
              "      fill: #D2E3FC;\n",
              "    }\n",
              "\n",
              "    [theme=dark] .colab-df-convert:hover {\n",
              "      background-color: #434B5C;\n",
              "      box-shadow: 0px 1px 3px 1px rgba(0, 0, 0, 0.15);\n",
              "      filter: drop-shadow(0px 1px 2px rgba(0, 0, 0, 0.3));\n",
              "      fill: #FFFFFF;\n",
              "    }\n",
              "  </style>\n",
              "\n",
              "    <script>\n",
              "      const buttonEl =\n",
              "        document.querySelector('#df-449cbc34-8c4c-43d1-817b-6230f28af294 button.colab-df-convert');\n",
              "      buttonEl.style.display =\n",
              "        google.colab.kernel.accessAllowed ? 'block' : 'none';\n",
              "\n",
              "      async function convertToInteractive(key) {\n",
              "        const element = document.querySelector('#df-449cbc34-8c4c-43d1-817b-6230f28af294');\n",
              "        const dataTable =\n",
              "          await google.colab.kernel.invokeFunction('convertToInteractive',\n",
              "                                                    [key], {});\n",
              "        if (!dataTable) return;\n",
              "\n",
              "        const docLinkHtml = 'Like what you see? Visit the ' +\n",
              "          '<a target=\"_blank\" href=https://colab.research.google.com/notebooks/data_table.ipynb>data table notebook</a>'\n",
              "          + ' to learn more about interactive tables.';\n",
              "        element.innerHTML = '';\n",
              "        dataTable['output_type'] = 'display_data';\n",
              "        await google.colab.output.renderOutput(dataTable, element);\n",
              "        const docLink = document.createElement('div');\n",
              "        docLink.innerHTML = docLinkHtml;\n",
              "        element.appendChild(docLink);\n",
              "      }\n",
              "    </script>\n",
              "  </div>\n",
              "\n",
              "\n",
              "<div id=\"df-8bfeb360-25d2-48f9-b8e3-112e66a76b2c\">\n",
              "  <button class=\"colab-df-quickchart\" onclick=\"quickchart('df-8bfeb360-25d2-48f9-b8e3-112e66a76b2c')\"\n",
              "            title=\"Suggest charts\"\n",
              "            style=\"display:none;\">\n",
              "\n",
              "<svg xmlns=\"http://www.w3.org/2000/svg\" height=\"24px\"viewBox=\"0 0 24 24\"\n",
              "     width=\"24px\">\n",
              "    <g>\n",
              "        <path d=\"M19 3H5c-1.1 0-2 .9-2 2v14c0 1.1.9 2 2 2h14c1.1 0 2-.9 2-2V5c0-1.1-.9-2-2-2zM9 17H7v-7h2v7zm4 0h-2V7h2v10zm4 0h-2v-4h2v4z\"/>\n",
              "    </g>\n",
              "</svg>\n",
              "  </button>\n",
              "\n",
              "<style>\n",
              "  .colab-df-quickchart {\n",
              "      --bg-color: #E8F0FE;\n",
              "      --fill-color: #1967D2;\n",
              "      --hover-bg-color: #E2EBFA;\n",
              "      --hover-fill-color: #174EA6;\n",
              "      --disabled-fill-color: #AAA;\n",
              "      --disabled-bg-color: #DDD;\n",
              "  }\n",
              "\n",
              "  [theme=dark] .colab-df-quickchart {\n",
              "      --bg-color: #3B4455;\n",
              "      --fill-color: #D2E3FC;\n",
              "      --hover-bg-color: #434B5C;\n",
              "      --hover-fill-color: #FFFFFF;\n",
              "      --disabled-bg-color: #3B4455;\n",
              "      --disabled-fill-color: #666;\n",
              "  }\n",
              "\n",
              "  .colab-df-quickchart {\n",
              "    background-color: var(--bg-color);\n",
              "    border: none;\n",
              "    border-radius: 50%;\n",
              "    cursor: pointer;\n",
              "    display: none;\n",
              "    fill: var(--fill-color);\n",
              "    height: 32px;\n",
              "    padding: 0;\n",
              "    width: 32px;\n",
              "  }\n",
              "\n",
              "  .colab-df-quickchart:hover {\n",
              "    background-color: var(--hover-bg-color);\n",
              "    box-shadow: 0 1px 2px rgba(60, 64, 67, 0.3), 0 1px 3px 1px rgba(60, 64, 67, 0.15);\n",
              "    fill: var(--button-hover-fill-color);\n",
              "  }\n",
              "\n",
              "  .colab-df-quickchart-complete:disabled,\n",
              "  .colab-df-quickchart-complete:disabled:hover {\n",
              "    background-color: var(--disabled-bg-color);\n",
              "    fill: var(--disabled-fill-color);\n",
              "    box-shadow: none;\n",
              "  }\n",
              "\n",
              "  .colab-df-spinner {\n",
              "    border: 2px solid var(--fill-color);\n",
              "    border-color: transparent;\n",
              "    border-bottom-color: var(--fill-color);\n",
              "    animation:\n",
              "      spin 1s steps(1) infinite;\n",
              "  }\n",
              "\n",
              "  @keyframes spin {\n",
              "    0% {\n",
              "      border-color: transparent;\n",
              "      border-bottom-color: var(--fill-color);\n",
              "      border-left-color: var(--fill-color);\n",
              "    }\n",
              "    20% {\n",
              "      border-color: transparent;\n",
              "      border-left-color: var(--fill-color);\n",
              "      border-top-color: var(--fill-color);\n",
              "    }\n",
              "    30% {\n",
              "      border-color: transparent;\n",
              "      border-left-color: var(--fill-color);\n",
              "      border-top-color: var(--fill-color);\n",
              "      border-right-color: var(--fill-color);\n",
              "    }\n",
              "    40% {\n",
              "      border-color: transparent;\n",
              "      border-right-color: var(--fill-color);\n",
              "      border-top-color: var(--fill-color);\n",
              "    }\n",
              "    60% {\n",
              "      border-color: transparent;\n",
              "      border-right-color: var(--fill-color);\n",
              "    }\n",
              "    80% {\n",
              "      border-color: transparent;\n",
              "      border-right-color: var(--fill-color);\n",
              "      border-bottom-color: var(--fill-color);\n",
              "    }\n",
              "    90% {\n",
              "      border-color: transparent;\n",
              "      border-bottom-color: var(--fill-color);\n",
              "    }\n",
              "  }\n",
              "</style>\n",
              "\n",
              "  <script>\n",
              "    async function quickchart(key) {\n",
              "      const quickchartButtonEl =\n",
              "        document.querySelector('#' + key + ' button');\n",
              "      quickchartButtonEl.disabled = true;  // To prevent multiple clicks.\n",
              "      quickchartButtonEl.classList.add('colab-df-spinner');\n",
              "      try {\n",
              "        const charts = await google.colab.kernel.invokeFunction(\n",
              "            'suggestCharts', [key], {});\n",
              "      } catch (error) {\n",
              "        console.error('Error during call to suggestCharts:', error);\n",
              "      }\n",
              "      quickchartButtonEl.classList.remove('colab-df-spinner');\n",
              "      quickchartButtonEl.classList.add('colab-df-quickchart-complete');\n",
              "    }\n",
              "    (() => {\n",
              "      let quickchartButtonEl =\n",
              "        document.querySelector('#df-8bfeb360-25d2-48f9-b8e3-112e66a76b2c button');\n",
              "      quickchartButtonEl.style.display =\n",
              "        google.colab.kernel.accessAllowed ? 'block' : 'none';\n",
              "    })();\n",
              "  </script>\n",
              "</div>\n",
              "\n",
              "    </div>\n",
              "  </div>\n"
            ],
            "application/vnd.google.colaboratory.intrinsic+json": {
              "type": "dataframe",
              "variable_name": "df",
              "summary": "{\n  \"name\": \"df\",\n  \"rows\": 8523,\n  \"fields\": [\n    {\n      \"column\": \"Item_Identifier\",\n      \"properties\": {\n        \"dtype\": \"category\",\n        \"num_unique_values\": 1559,\n        \"samples\": [\n          \"FDY01\",\n          \"FDG05\",\n          \"NCJ29\"\n        ],\n        \"semantic_type\": \"\",\n        \"description\": \"\"\n      }\n    },\n    {\n      \"column\": \"Item_Weight\",\n      \"properties\": {\n        \"dtype\": \"number\",\n        \"std\": 4.643456499186415,\n        \"min\": 4.555,\n        \"max\": 21.35,\n        \"num_unique_values\": 415,\n        \"samples\": [\n          16.75,\n          8.695,\n          7.605\n        ],\n        \"semantic_type\": \"\",\n        \"description\": \"\"\n      }\n    },\n    {\n      \"column\": \"Item_Fat_Content\",\n      \"properties\": {\n        \"dtype\": \"category\",\n        \"num_unique_values\": 5,\n        \"samples\": [\n          \"Regular\",\n          \"reg\",\n          \"low fat\"\n        ],\n        \"semantic_type\": \"\",\n        \"description\": \"\"\n      }\n    },\n    {\n      \"column\": \"Item_Visibility\",\n      \"properties\": {\n        \"dtype\": \"number\",\n        \"std\": 0.05159782232113512,\n        \"min\": 0.0,\n        \"max\": 0.328390948,\n        \"num_unique_values\": 7880,\n        \"samples\": [\n          0.224837308,\n          0.046088273,\n          0.0204702\n        ],\n        \"semantic_type\": \"\",\n        \"description\": \"\"\n      }\n    },\n    {\n      \"column\": \"Item_Type\",\n      \"properties\": {\n        \"dtype\": \"category\",\n        \"num_unique_values\": 16,\n        \"samples\": [\n          \"Dairy\",\n          \"Soft Drinks\",\n          \"Baking Goods\"\n        ],\n        \"semantic_type\": \"\",\n        \"description\": \"\"\n      }\n    },\n    {\n      \"column\": \"Item_MRP\",\n      \"properties\": {\n        \"dtype\": \"number\",\n        \"std\": 62.27506651219046,\n        \"min\": 31.29,\n        \"max\": 266.8884,\n        \"num_unique_values\": 5938,\n        \"samples\": [\n          255.9672,\n          93.512,\n          208.3954\n        ],\n        \"semantic_type\": \"\",\n        \"description\": \"\"\n      }\n    },\n    {\n      \"column\": \"Outlet_Identifier\",\n      \"properties\": {\n        \"dtype\": \"category\",\n        \"num_unique_values\": 10,\n        \"samples\": [\n          \"OUT035\",\n          \"OUT018\",\n          \"OUT045\"\n        ],\n        \"semantic_type\": \"\",\n        \"description\": \"\"\n      }\n    },\n    {\n      \"column\": \"Outlet_Establishment_Year\",\n      \"properties\": {\n        \"dtype\": \"number\",\n        \"std\": 8,\n        \"min\": 1985,\n        \"max\": 2009,\n        \"num_unique_values\": 9,\n        \"samples\": [\n          1997,\n          2009,\n          2002\n        ],\n        \"semantic_type\": \"\",\n        \"description\": \"\"\n      }\n    },\n    {\n      \"column\": \"Outlet_Size\",\n      \"properties\": {\n        \"dtype\": \"category\",\n        \"num_unique_values\": 3,\n        \"samples\": [\n          \"Medium\",\n          \"High\",\n          \"Small\"\n        ],\n        \"semantic_type\": \"\",\n        \"description\": \"\"\n      }\n    },\n    {\n      \"column\": \"Outlet_Location_Type\",\n      \"properties\": {\n        \"dtype\": \"category\",\n        \"num_unique_values\": 3,\n        \"samples\": [\n          \"Tier 1\",\n          \"Tier 3\",\n          \"Tier 2\"\n        ],\n        \"semantic_type\": \"\",\n        \"description\": \"\"\n      }\n    },\n    {\n      \"column\": \"Outlet_Type\",\n      \"properties\": {\n        \"dtype\": \"category\",\n        \"num_unique_values\": 4,\n        \"samples\": [\n          \"Supermarket Type2\",\n          \"Supermarket Type3\",\n          \"Supermarket Type1\"\n        ],\n        \"semantic_type\": \"\",\n        \"description\": \"\"\n      }\n    },\n    {\n      \"column\": \"Item_Outlet_Sales\",\n      \"properties\": {\n        \"dtype\": \"number\",\n        \"std\": 1706.499615733833,\n        \"min\": 33.29,\n        \"max\": 13086.9648,\n        \"num_unique_values\": 3493,\n        \"samples\": [\n          5466.8838,\n          8417.7094,\n          5888.3352\n        ],\n        \"semantic_type\": \"\",\n        \"description\": \"\"\n      }\n    }\n  ]\n}"
            }
          },
          "metadata": {},
          "execution_count": 17
        }
      ]
    },
    {
      "cell_type": "code",
      "source": [
        "# check for null values\n",
        "df.isna().sum()"
      ],
      "metadata": {
        "colab": {
          "base_uri": "https://localhost:8080/"
        },
        "id": "oOJzOWCzJF_I",
        "outputId": "8d35f0a7-491a-4522-cb9d-d5bc797f8429"
      },
      "execution_count": null,
      "outputs": [
        {
          "output_type": "execute_result",
          "data": {
            "text/plain": [
              "Item_Identifier                 0\n",
              "Item_Weight                  1463\n",
              "Item_Fat_Content                0\n",
              "Item_Visibility                 0\n",
              "Item_Type                       0\n",
              "Item_MRP                        0\n",
              "Outlet_Identifier               0\n",
              "Outlet_Establishment_Year       0\n",
              "Outlet_Size                  2410\n",
              "Outlet_Location_Type            0\n",
              "Outlet_Type                     0\n",
              "Item_Outlet_Sales               0\n",
              "dtype: int64"
            ]
          },
          "metadata": {},
          "execution_count": 18
        }
      ]
    },
    {
      "cell_type": "code",
      "source": [
        "#check the inconsistencies in the categorical columns\n",
        "for column in df.select_dtypes(include='object').columns:\n",
        "    print(column, df[column].unique())"
      ],
      "metadata": {
        "colab": {
          "base_uri": "https://localhost:8080/"
        },
        "id": "SrrGcMTQInns",
        "outputId": "5adab1e2-21f6-4c7b-a62f-5da457d0ba06"
      },
      "execution_count": null,
      "outputs": [
        {
          "output_type": "stream",
          "name": "stdout",
          "text": [
            "Item_Identifier ['FDA15' 'DRC01' 'FDN15' ... 'NCF55' 'NCW30' 'NCW05']\n",
            "Item_Fat_Content ['Low Fat' 'Regular' 'low fat' 'LF' 'reg']\n",
            "Item_Type ['Dairy' 'Soft Drinks' 'Meat' 'Fruits and Vegetables' 'Household'\n",
            " 'Baking Goods' 'Snack Foods' 'Frozen Foods' 'Breakfast'\n",
            " 'Health and Hygiene' 'Hard Drinks' 'Canned' 'Breads' 'Starchy Foods'\n",
            " 'Others' 'Seafood']\n",
            "Outlet_Identifier ['OUT049' 'OUT018' 'OUT010' 'OUT013' 'OUT027' 'OUT045' 'OUT017' 'OUT046'\n",
            " 'OUT035' 'OUT019']\n",
            "Outlet_Size ['Medium' nan 'High' 'Small']\n",
            "Outlet_Location_Type ['Tier 1' 'Tier 3' 'Tier 2']\n",
            "Outlet_Type ['Supermarket Type1' 'Supermarket Type2' 'Grocery Store'\n",
            " 'Supermarket Type3']\n"
          ]
        }
      ]
    },
    {
      "cell_type": "code",
      "source": [
        "df['Item_Fat_Content'] = df['Item_Fat_Content'].replace({'LF': 'Low Fat', 'low fat': 'Low Fat', 'reg': 'Regular'})"
      ],
      "metadata": {
        "id": "JExq3mmOIubA"
      },
      "execution_count": null,
      "outputs": []
    },
    {
      "cell_type": "markdown",
      "source": [
        "#CRISP-DM Phase 4 - Modeling"
      ],
      "metadata": {
        "id": "RtB_E_vTECkq"
      }
    },
    {
      "cell_type": "markdown",
      "source": [
        "##1. Your first task is to build a linear regression model to predict sales."
      ],
      "metadata": {
        "id": "3qn-rLo2EMKo"
      }
    },
    {
      "cell_type": "markdown",
      "source": [
        "###Build a linear regression model."
      ],
      "metadata": {
        "id": "-7AxcvYeMhrJ"
      }
    },
    {
      "cell_type": "code",
      "execution_count": null,
      "metadata": {
        "colab": {
          "base_uri": "https://localhost:8080/",
          "height": 206
        },
        "id": "eAPByu5tDbbf",
        "outputId": "1b16422b-5d82-48f1-b5f9-575d7c647078"
      },
      "outputs": [
        {
          "output_type": "execute_result",
          "data": {
            "text/plain": [
              "      Item_Weight Item_Fat_Content  Item_Visibility     Item_Type  Item_MRP  \\\n",
              "4776       16.350          Low Fat         0.029565     Household  256.4646   \n",
              "7510       15.250          Regular         0.000000   Snack Foods  179.7660   \n",
              "5828       12.350          Regular         0.158716          Meat  157.2946   \n",
              "5327        7.975          Low Fat         0.014628  Baking Goods   82.3250   \n",
              "4810       19.350          Low Fat         0.016645  Frozen Foods  120.9098   \n",
              "\n",
              "     Outlet_Identifier  Outlet_Establishment_Year Outlet_Size  \\\n",
              "4776            OUT018                       2009      Medium   \n",
              "7510            OUT018                       2009      Medium   \n",
              "5828            OUT049                       1999      Medium   \n",
              "5327            OUT035                       2004       Small   \n",
              "4810            OUT045                       2002         NaN   \n",
              "\n",
              "     Outlet_Location_Type        Outlet_Type  \n",
              "4776               Tier 3  Supermarket Type2  \n",
              "7510               Tier 3  Supermarket Type2  \n",
              "5828               Tier 1  Supermarket Type1  \n",
              "5327               Tier 2  Supermarket Type1  \n",
              "4810               Tier 2  Supermarket Type1  "
            ],
            "text/html": [
              "\n",
              "  <div id=\"df-72ce3f4d-9635-4473-ad26-e0e963da2523\" class=\"colab-df-container\">\n",
              "    <div>\n",
              "<style scoped>\n",
              "    .dataframe tbody tr th:only-of-type {\n",
              "        vertical-align: middle;\n",
              "    }\n",
              "\n",
              "    .dataframe tbody tr th {\n",
              "        vertical-align: top;\n",
              "    }\n",
              "\n",
              "    .dataframe thead th {\n",
              "        text-align: right;\n",
              "    }\n",
              "</style>\n",
              "<table border=\"1\" class=\"dataframe\">\n",
              "  <thead>\n",
              "    <tr style=\"text-align: right;\">\n",
              "      <th></th>\n",
              "      <th>Item_Weight</th>\n",
              "      <th>Item_Fat_Content</th>\n",
              "      <th>Item_Visibility</th>\n",
              "      <th>Item_Type</th>\n",
              "      <th>Item_MRP</th>\n",
              "      <th>Outlet_Identifier</th>\n",
              "      <th>Outlet_Establishment_Year</th>\n",
              "      <th>Outlet_Size</th>\n",
              "      <th>Outlet_Location_Type</th>\n",
              "      <th>Outlet_Type</th>\n",
              "    </tr>\n",
              "  </thead>\n",
              "  <tbody>\n",
              "    <tr>\n",
              "      <th>4776</th>\n",
              "      <td>16.350</td>\n",
              "      <td>Low Fat</td>\n",
              "      <td>0.029565</td>\n",
              "      <td>Household</td>\n",
              "      <td>256.4646</td>\n",
              "      <td>OUT018</td>\n",
              "      <td>2009</td>\n",
              "      <td>Medium</td>\n",
              "      <td>Tier 3</td>\n",
              "      <td>Supermarket Type2</td>\n",
              "    </tr>\n",
              "    <tr>\n",
              "      <th>7510</th>\n",
              "      <td>15.250</td>\n",
              "      <td>Regular</td>\n",
              "      <td>0.000000</td>\n",
              "      <td>Snack Foods</td>\n",
              "      <td>179.7660</td>\n",
              "      <td>OUT018</td>\n",
              "      <td>2009</td>\n",
              "      <td>Medium</td>\n",
              "      <td>Tier 3</td>\n",
              "      <td>Supermarket Type2</td>\n",
              "    </tr>\n",
              "    <tr>\n",
              "      <th>5828</th>\n",
              "      <td>12.350</td>\n",
              "      <td>Regular</td>\n",
              "      <td>0.158716</td>\n",
              "      <td>Meat</td>\n",
              "      <td>157.2946</td>\n",
              "      <td>OUT049</td>\n",
              "      <td>1999</td>\n",
              "      <td>Medium</td>\n",
              "      <td>Tier 1</td>\n",
              "      <td>Supermarket Type1</td>\n",
              "    </tr>\n",
              "    <tr>\n",
              "      <th>5327</th>\n",
              "      <td>7.975</td>\n",
              "      <td>Low Fat</td>\n",
              "      <td>0.014628</td>\n",
              "      <td>Baking Goods</td>\n",
              "      <td>82.3250</td>\n",
              "      <td>OUT035</td>\n",
              "      <td>2004</td>\n",
              "      <td>Small</td>\n",
              "      <td>Tier 2</td>\n",
              "      <td>Supermarket Type1</td>\n",
              "    </tr>\n",
              "    <tr>\n",
              "      <th>4810</th>\n",
              "      <td>19.350</td>\n",
              "      <td>Low Fat</td>\n",
              "      <td>0.016645</td>\n",
              "      <td>Frozen Foods</td>\n",
              "      <td>120.9098</td>\n",
              "      <td>OUT045</td>\n",
              "      <td>2002</td>\n",
              "      <td>NaN</td>\n",
              "      <td>Tier 2</td>\n",
              "      <td>Supermarket Type1</td>\n",
              "    </tr>\n",
              "  </tbody>\n",
              "</table>\n",
              "</div>\n",
              "    <div class=\"colab-df-buttons\">\n",
              "\n",
              "  <div class=\"colab-df-container\">\n",
              "    <button class=\"colab-df-convert\" onclick=\"convertToInteractive('df-72ce3f4d-9635-4473-ad26-e0e963da2523')\"\n",
              "            title=\"Convert this dataframe to an interactive table.\"\n",
              "            style=\"display:none;\">\n",
              "\n",
              "  <svg xmlns=\"http://www.w3.org/2000/svg\" height=\"24px\" viewBox=\"0 -960 960 960\">\n",
              "    <path d=\"M120-120v-720h720v720H120Zm60-500h600v-160H180v160Zm220 220h160v-160H400v160Zm0 220h160v-160H400v160ZM180-400h160v-160H180v160Zm440 0h160v-160H620v160ZM180-180h160v-160H180v160Zm440 0h160v-160H620v160Z\"/>\n",
              "  </svg>\n",
              "    </button>\n",
              "\n",
              "  <style>\n",
              "    .colab-df-container {\n",
              "      display:flex;\n",
              "      gap: 12px;\n",
              "    }\n",
              "\n",
              "    .colab-df-convert {\n",
              "      background-color: #E8F0FE;\n",
              "      border: none;\n",
              "      border-radius: 50%;\n",
              "      cursor: pointer;\n",
              "      display: none;\n",
              "      fill: #1967D2;\n",
              "      height: 32px;\n",
              "      padding: 0 0 0 0;\n",
              "      width: 32px;\n",
              "    }\n",
              "\n",
              "    .colab-df-convert:hover {\n",
              "      background-color: #E2EBFA;\n",
              "      box-shadow: 0px 1px 2px rgba(60, 64, 67, 0.3), 0px 1px 3px 1px rgba(60, 64, 67, 0.15);\n",
              "      fill: #174EA6;\n",
              "    }\n",
              "\n",
              "    .colab-df-buttons div {\n",
              "      margin-bottom: 4px;\n",
              "    }\n",
              "\n",
              "    [theme=dark] .colab-df-convert {\n",
              "      background-color: #3B4455;\n",
              "      fill: #D2E3FC;\n",
              "    }\n",
              "\n",
              "    [theme=dark] .colab-df-convert:hover {\n",
              "      background-color: #434B5C;\n",
              "      box-shadow: 0px 1px 3px 1px rgba(0, 0, 0, 0.15);\n",
              "      filter: drop-shadow(0px 1px 2px rgba(0, 0, 0, 0.3));\n",
              "      fill: #FFFFFF;\n",
              "    }\n",
              "  </style>\n",
              "\n",
              "    <script>\n",
              "      const buttonEl =\n",
              "        document.querySelector('#df-72ce3f4d-9635-4473-ad26-e0e963da2523 button.colab-df-convert');\n",
              "      buttonEl.style.display =\n",
              "        google.colab.kernel.accessAllowed ? 'block' : 'none';\n",
              "\n",
              "      async function convertToInteractive(key) {\n",
              "        const element = document.querySelector('#df-72ce3f4d-9635-4473-ad26-e0e963da2523');\n",
              "        const dataTable =\n",
              "          await google.colab.kernel.invokeFunction('convertToInteractive',\n",
              "                                                    [key], {});\n",
              "        if (!dataTable) return;\n",
              "\n",
              "        const docLinkHtml = 'Like what you see? Visit the ' +\n",
              "          '<a target=\"_blank\" href=https://colab.research.google.com/notebooks/data_table.ipynb>data table notebook</a>'\n",
              "          + ' to learn more about interactive tables.';\n",
              "        element.innerHTML = '';\n",
              "        dataTable['output_type'] = 'display_data';\n",
              "        await google.colab.output.renderOutput(dataTable, element);\n",
              "        const docLink = document.createElement('div');\n",
              "        docLink.innerHTML = docLinkHtml;\n",
              "        element.appendChild(docLink);\n",
              "      }\n",
              "    </script>\n",
              "  </div>\n",
              "\n",
              "\n",
              "<div id=\"df-320c7fbe-0093-4d1f-bc3c-3362c51583d7\">\n",
              "  <button class=\"colab-df-quickchart\" onclick=\"quickchart('df-320c7fbe-0093-4d1f-bc3c-3362c51583d7')\"\n",
              "            title=\"Suggest charts\"\n",
              "            style=\"display:none;\">\n",
              "\n",
              "<svg xmlns=\"http://www.w3.org/2000/svg\" height=\"24px\"viewBox=\"0 0 24 24\"\n",
              "     width=\"24px\">\n",
              "    <g>\n",
              "        <path d=\"M19 3H5c-1.1 0-2 .9-2 2v14c0 1.1.9 2 2 2h14c1.1 0 2-.9 2-2V5c0-1.1-.9-2-2-2zM9 17H7v-7h2v7zm4 0h-2V7h2v10zm4 0h-2v-4h2v4z\"/>\n",
              "    </g>\n",
              "</svg>\n",
              "  </button>\n",
              "\n",
              "<style>\n",
              "  .colab-df-quickchart {\n",
              "      --bg-color: #E8F0FE;\n",
              "      --fill-color: #1967D2;\n",
              "      --hover-bg-color: #E2EBFA;\n",
              "      --hover-fill-color: #174EA6;\n",
              "      --disabled-fill-color: #AAA;\n",
              "      --disabled-bg-color: #DDD;\n",
              "  }\n",
              "\n",
              "  [theme=dark] .colab-df-quickchart {\n",
              "      --bg-color: #3B4455;\n",
              "      --fill-color: #D2E3FC;\n",
              "      --hover-bg-color: #434B5C;\n",
              "      --hover-fill-color: #FFFFFF;\n",
              "      --disabled-bg-color: #3B4455;\n",
              "      --disabled-fill-color: #666;\n",
              "  }\n",
              "\n",
              "  .colab-df-quickchart {\n",
              "    background-color: var(--bg-color);\n",
              "    border: none;\n",
              "    border-radius: 50%;\n",
              "    cursor: pointer;\n",
              "    display: none;\n",
              "    fill: var(--fill-color);\n",
              "    height: 32px;\n",
              "    padding: 0;\n",
              "    width: 32px;\n",
              "  }\n",
              "\n",
              "  .colab-df-quickchart:hover {\n",
              "    background-color: var(--hover-bg-color);\n",
              "    box-shadow: 0 1px 2px rgba(60, 64, 67, 0.3), 0 1px 3px 1px rgba(60, 64, 67, 0.15);\n",
              "    fill: var(--button-hover-fill-color);\n",
              "  }\n",
              "\n",
              "  .colab-df-quickchart-complete:disabled,\n",
              "  .colab-df-quickchart-complete:disabled:hover {\n",
              "    background-color: var(--disabled-bg-color);\n",
              "    fill: var(--disabled-fill-color);\n",
              "    box-shadow: none;\n",
              "  }\n",
              "\n",
              "  .colab-df-spinner {\n",
              "    border: 2px solid var(--fill-color);\n",
              "    border-color: transparent;\n",
              "    border-bottom-color: var(--fill-color);\n",
              "    animation:\n",
              "      spin 1s steps(1) infinite;\n",
              "  }\n",
              "\n",
              "  @keyframes spin {\n",
              "    0% {\n",
              "      border-color: transparent;\n",
              "      border-bottom-color: var(--fill-color);\n",
              "      border-left-color: var(--fill-color);\n",
              "    }\n",
              "    20% {\n",
              "      border-color: transparent;\n",
              "      border-left-color: var(--fill-color);\n",
              "      border-top-color: var(--fill-color);\n",
              "    }\n",
              "    30% {\n",
              "      border-color: transparent;\n",
              "      border-left-color: var(--fill-color);\n",
              "      border-top-color: var(--fill-color);\n",
              "      border-right-color: var(--fill-color);\n",
              "    }\n",
              "    40% {\n",
              "      border-color: transparent;\n",
              "      border-right-color: var(--fill-color);\n",
              "      border-top-color: var(--fill-color);\n",
              "    }\n",
              "    60% {\n",
              "      border-color: transparent;\n",
              "      border-right-color: var(--fill-color);\n",
              "    }\n",
              "    80% {\n",
              "      border-color: transparent;\n",
              "      border-right-color: var(--fill-color);\n",
              "      border-bottom-color: var(--fill-color);\n",
              "    }\n",
              "    90% {\n",
              "      border-color: transparent;\n",
              "      border-bottom-color: var(--fill-color);\n",
              "    }\n",
              "  }\n",
              "</style>\n",
              "\n",
              "  <script>\n",
              "    async function quickchart(key) {\n",
              "      const quickchartButtonEl =\n",
              "        document.querySelector('#' + key + ' button');\n",
              "      quickchartButtonEl.disabled = true;  // To prevent multiple clicks.\n",
              "      quickchartButtonEl.classList.add('colab-df-spinner');\n",
              "      try {\n",
              "        const charts = await google.colab.kernel.invokeFunction(\n",
              "            'suggestCharts', [key], {});\n",
              "      } catch (error) {\n",
              "        console.error('Error during call to suggestCharts:', error);\n",
              "      }\n",
              "      quickchartButtonEl.classList.remove('colab-df-spinner');\n",
              "      quickchartButtonEl.classList.add('colab-df-quickchart-complete');\n",
              "    }\n",
              "    (() => {\n",
              "      let quickchartButtonEl =\n",
              "        document.querySelector('#df-320c7fbe-0093-4d1f-bc3c-3362c51583d7 button');\n",
              "      quickchartButtonEl.style.display =\n",
              "        google.colab.kernel.accessAllowed ? 'block' : 'none';\n",
              "    })();\n",
              "  </script>\n",
              "</div>\n",
              "\n",
              "    </div>\n",
              "  </div>\n"
            ],
            "application/vnd.google.colaboratory.intrinsic+json": {
              "type": "dataframe",
              "variable_name": "X_train",
              "summary": "{\n  \"name\": \"X_train\",\n  \"rows\": 6392,\n  \"fields\": [\n    {\n      \"column\": \"Item_Weight\",\n      \"properties\": {\n        \"dtype\": \"number\",\n        \"std\": 4.637034345685437,\n        \"min\": 4.555,\n        \"max\": 21.35,\n        \"num_unique_values\": 412,\n        \"samples\": [\n          7.31,\n          15.85,\n          20.0\n        ],\n        \"semantic_type\": \"\",\n        \"description\": \"\"\n      }\n    },\n    {\n      \"column\": \"Item_Fat_Content\",\n      \"properties\": {\n        \"dtype\": \"category\",\n        \"num_unique_values\": 2,\n        \"samples\": [\n          \"Regular\",\n          \"Low Fat\"\n        ],\n        \"semantic_type\": \"\",\n        \"description\": \"\"\n      }\n    },\n    {\n      \"column\": \"Item_Visibility\",\n      \"properties\": {\n        \"dtype\": \"number\",\n        \"std\": 0.05113053602327332,\n        \"min\": 0.0,\n        \"max\": 0.328390948,\n        \"num_unique_values\": 5927,\n        \"samples\": [\n          0.119361718,\n          0.011258035\n        ],\n        \"semantic_type\": \"\",\n        \"description\": \"\"\n      }\n    },\n    {\n      \"column\": \"Item_Type\",\n      \"properties\": {\n        \"dtype\": \"category\",\n        \"num_unique_values\": 16,\n        \"samples\": [\n          \"Household\",\n          \"Snack Foods\"\n        ],\n        \"semantic_type\": \"\",\n        \"description\": \"\"\n      }\n    },\n    {\n      \"column\": \"Item_MRP\",\n      \"properties\": {\n        \"dtype\": \"number\",\n        \"std\": 62.629275668719735,\n        \"min\": 31.29,\n        \"max\": 266.8884,\n        \"num_unique_values\": 4861,\n        \"samples\": [\n          133.7942,\n          181.7976\n        ],\n        \"semantic_type\": \"\",\n        \"description\": \"\"\n      }\n    },\n    {\n      \"column\": \"Outlet_Identifier\",\n      \"properties\": {\n        \"dtype\": \"category\",\n        \"num_unique_values\": 10,\n        \"samples\": [\n          \"OUT017\",\n          \"OUT049\"\n        ],\n        \"semantic_type\": \"\",\n        \"description\": \"\"\n      }\n    },\n    {\n      \"column\": \"Outlet_Establishment_Year\",\n      \"properties\": {\n        \"dtype\": \"number\",\n        \"std\": 8,\n        \"min\": 1985,\n        \"max\": 2009,\n        \"num_unique_values\": 9,\n        \"samples\": [\n          2007,\n          1999\n        ],\n        \"semantic_type\": \"\",\n        \"description\": \"\"\n      }\n    },\n    {\n      \"column\": \"Outlet_Size\",\n      \"properties\": {\n        \"dtype\": \"category\",\n        \"num_unique_values\": 3,\n        \"samples\": [\n          \"Medium\",\n          \"Small\"\n        ],\n        \"semantic_type\": \"\",\n        \"description\": \"\"\n      }\n    },\n    {\n      \"column\": \"Outlet_Location_Type\",\n      \"properties\": {\n        \"dtype\": \"category\",\n        \"num_unique_values\": 3,\n        \"samples\": [\n          \"Tier 3\",\n          \"Tier 1\"\n        ],\n        \"semantic_type\": \"\",\n        \"description\": \"\"\n      }\n    },\n    {\n      \"column\": \"Outlet_Type\",\n      \"properties\": {\n        \"dtype\": \"category\",\n        \"num_unique_values\": 4,\n        \"samples\": [\n          \"Supermarket Type1\",\n          \"Supermarket Type3\"\n        ],\n        \"semantic_type\": \"\",\n        \"description\": \"\"\n      }\n    }\n  ]\n}"
            }
          },
          "metadata": {},
          "execution_count": 21
        }
      ],
      "source": [
        "## Separate features vs target & train/test split\n",
        "X = df.drop(columns=['Item_Outlet_Sales', 'Item_Identifier'])\n",
        "y = df['Item_Outlet_Sales']\n",
        "# Train test split\n",
        "X_train, X_test, y_train, y_test = train_test_split(X, y, random_state=42)\n",
        "X_train.head()"
      ]
    },
    {
      "cell_type": "code",
      "source": [
        "# Numeric\n",
        "num_cols = X_train.select_dtypes(\"number\").columns\n",
        "impute_mean = SimpleImputer(strategy='mean')\n",
        "scaler = StandardScaler()\n",
        "num_pipe = make_pipeline(impute_mean, scaler)\n",
        "num_tuple = ('numeric', num_pipe, num_cols)\n",
        "# Ordinal\n",
        "ordinal_cols=['Item_Fat_Content', 'Outlet_Size', 'Outlet_Location_Type']\n",
        "impute_na_ord = SimpleImputer(strategy='constant', fill_value='NA')\n",
        "ordinals_order_fat_content= ['Low Fat', 'Regular']\n",
        "ordinals_order_outlet_size=['NA', 'Small', 'Medium', 'High']\n",
        "ordinals_order_outlet_location_type=['Tier 1', 'Tier 2', 'Tier 3']\n",
        "ordinal_category_orders=[ordinals_order_fat_content, ordinals_order_outlet_size, ordinals_order_outlet_location_type]\n",
        "ord_encoder = OrdinalEncoder(categories=ordinal_category_orders)\n",
        "scaler_ord = StandardScaler()\n",
        "ord_pipe = make_pipeline(impute_na_ord, ord_encoder, scaler_ord)\n",
        "ord_tuple = ('ordinal', ord_pipe, ordinal_cols)\n",
        "# Nominal\n",
        "ohe_cols = X_train.select_dtypes('object').drop(columns=ordinal_cols).columns\n",
        "impute_na = SimpleImputer(strategy='constant', fill_value=\"NA\")\n",
        "ohe_encoder = OneHotEncoder(sparse_output=False, handle_unknown='ignore')\n",
        "ohe_pipe = make_pipeline(impute_na, ohe_encoder)\n",
        "ohe_tuple = ('categorical', ohe_pipe, ohe_cols)"
      ],
      "metadata": {
        "id": "lkTWmWjmJX2H"
      },
      "execution_count": null,
      "outputs": []
    },
    {
      "cell_type": "code",
      "source": [
        " # Instantiate with verbose_feature_names_out=False\n",
        "preprocessor = ColumnTransformer([num_tuple, ord_tuple, ohe_tuple], verbose_feature_names_out=False)\n",
        "preprocessor"
      ],
      "metadata": {
        "colab": {
          "base_uri": "https://localhost:8080/",
          "height": 186
        },
        "id": "YmPpUXk0JrMX",
        "outputId": "3a789c8c-34f8-4e42-87c5-d858d9083d42"
      },
      "execution_count": null,
      "outputs": [
        {
          "output_type": "execute_result",
          "data": {
            "text/plain": [
              "ColumnTransformer(transformers=[('numeric',\n",
              "                                 Pipeline(steps=[('simpleimputer',\n",
              "                                                  SimpleImputer()),\n",
              "                                                 ('standardscaler',\n",
              "                                                  StandardScaler())]),\n",
              "                                 Index(['Item_Weight', 'Item_Visibility', 'Item_MRP',\n",
              "       'Outlet_Establishment_Year'],\n",
              "      dtype='object')),\n",
              "                                ('ordinal',\n",
              "                                 Pipeline(steps=[('simpleimputer',\n",
              "                                                  SimpleImputer(fill_value='NA',\n",
              "                                                                strategy='constant')),\n",
              "                                                 ('ordinalencoder',\n",
              "                                                  OrdinalEn...\n",
              "                                                  StandardScaler())]),\n",
              "                                 ['Item_Fat_Content', 'Outlet_Size',\n",
              "                                  'Outlet_Location_Type']),\n",
              "                                ('categorical',\n",
              "                                 Pipeline(steps=[('simpleimputer',\n",
              "                                                  SimpleImputer(fill_value='NA',\n",
              "                                                                strategy='constant')),\n",
              "                                                 ('onehotencoder',\n",
              "                                                  OneHotEncoder(handle_unknown='ignore',\n",
              "                                                                sparse_output=False))]),\n",
              "                                 Index(['Item_Type', 'Outlet_Identifier', 'Outlet_Type'], dtype='object'))],\n",
              "                  verbose_feature_names_out=False)"
            ],
            "text/html": [
              "<style>#sk-container-id-2 {color: black;background-color: white;}#sk-container-id-2 pre{padding: 0;}#sk-container-id-2 div.sk-toggleable {background-color: white;}#sk-container-id-2 label.sk-toggleable__label {cursor: pointer;display: block;width: 100%;margin-bottom: 0;padding: 0.3em;box-sizing: border-box;text-align: center;}#sk-container-id-2 label.sk-toggleable__label-arrow:before {content: \"▸\";float: left;margin-right: 0.25em;color: #696969;}#sk-container-id-2 label.sk-toggleable__label-arrow:hover:before {color: black;}#sk-container-id-2 div.sk-estimator:hover label.sk-toggleable__label-arrow:before {color: black;}#sk-container-id-2 div.sk-toggleable__content {max-height: 0;max-width: 0;overflow: hidden;text-align: left;background-color: #f0f8ff;}#sk-container-id-2 div.sk-toggleable__content pre {margin: 0.2em;color: black;border-radius: 0.25em;background-color: #f0f8ff;}#sk-container-id-2 input.sk-toggleable__control:checked~div.sk-toggleable__content {max-height: 200px;max-width: 100%;overflow: auto;}#sk-container-id-2 input.sk-toggleable__control:checked~label.sk-toggleable__label-arrow:before {content: \"▾\";}#sk-container-id-2 div.sk-estimator input.sk-toggleable__control:checked~label.sk-toggleable__label {background-color: #d4ebff;}#sk-container-id-2 div.sk-label input.sk-toggleable__control:checked~label.sk-toggleable__label {background-color: #d4ebff;}#sk-container-id-2 input.sk-hidden--visually {border: 0;clip: rect(1px 1px 1px 1px);clip: rect(1px, 1px, 1px, 1px);height: 1px;margin: -1px;overflow: hidden;padding: 0;position: absolute;width: 1px;}#sk-container-id-2 div.sk-estimator {font-family: monospace;background-color: #f0f8ff;border: 1px dotted black;border-radius: 0.25em;box-sizing: border-box;margin-bottom: 0.5em;}#sk-container-id-2 div.sk-estimator:hover {background-color: #d4ebff;}#sk-container-id-2 div.sk-parallel-item::after {content: \"\";width: 100%;border-bottom: 1px solid gray;flex-grow: 1;}#sk-container-id-2 div.sk-label:hover label.sk-toggleable__label {background-color: #d4ebff;}#sk-container-id-2 div.sk-serial::before {content: \"\";position: absolute;border-left: 1px solid gray;box-sizing: border-box;top: 0;bottom: 0;left: 50%;z-index: 0;}#sk-container-id-2 div.sk-serial {display: flex;flex-direction: column;align-items: center;background-color: white;padding-right: 0.2em;padding-left: 0.2em;position: relative;}#sk-container-id-2 div.sk-item {position: relative;z-index: 1;}#sk-container-id-2 div.sk-parallel {display: flex;align-items: stretch;justify-content: center;background-color: white;position: relative;}#sk-container-id-2 div.sk-item::before, #sk-container-id-2 div.sk-parallel-item::before {content: \"\";position: absolute;border-left: 1px solid gray;box-sizing: border-box;top: 0;bottom: 0;left: 50%;z-index: -1;}#sk-container-id-2 div.sk-parallel-item {display: flex;flex-direction: column;z-index: 1;position: relative;background-color: white;}#sk-container-id-2 div.sk-parallel-item:first-child::after {align-self: flex-end;width: 50%;}#sk-container-id-2 div.sk-parallel-item:last-child::after {align-self: flex-start;width: 50%;}#sk-container-id-2 div.sk-parallel-item:only-child::after {width: 0;}#sk-container-id-2 div.sk-dashed-wrapped {border: 1px dashed gray;margin: 0 0.4em 0.5em 0.4em;box-sizing: border-box;padding-bottom: 0.4em;background-color: white;}#sk-container-id-2 div.sk-label label {font-family: monospace;font-weight: bold;display: inline-block;line-height: 1.2em;}#sk-container-id-2 div.sk-label-container {text-align: center;}#sk-container-id-2 div.sk-container {/* jupyter's `normalize.less` sets `[hidden] { display: none; }` but bootstrap.min.css set `[hidden] { display: none !important; }` so we also need the `!important` here to be able to override the default hidden behavior on the sphinx rendered scikit-learn.org. See: https://github.com/scikit-learn/scikit-learn/issues/21755 */display: inline-block !important;position: relative;}#sk-container-id-2 div.sk-text-repr-fallback {display: none;}</style><div id=\"sk-container-id-2\" class=\"sk-top-container\"><div class=\"sk-text-repr-fallback\"><pre>ColumnTransformer(transformers=[(&#x27;numeric&#x27;,\n",
              "                                 Pipeline(steps=[(&#x27;simpleimputer&#x27;,\n",
              "                                                  SimpleImputer()),\n",
              "                                                 (&#x27;standardscaler&#x27;,\n",
              "                                                  StandardScaler())]),\n",
              "                                 Index([&#x27;Item_Weight&#x27;, &#x27;Item_Visibility&#x27;, &#x27;Item_MRP&#x27;,\n",
              "       &#x27;Outlet_Establishment_Year&#x27;],\n",
              "      dtype=&#x27;object&#x27;)),\n",
              "                                (&#x27;ordinal&#x27;,\n",
              "                                 Pipeline(steps=[(&#x27;simpleimputer&#x27;,\n",
              "                                                  SimpleImputer(fill_value=&#x27;NA&#x27;,\n",
              "                                                                strategy=&#x27;constant&#x27;)),\n",
              "                                                 (&#x27;ordinalencoder&#x27;,\n",
              "                                                  OrdinalEn...\n",
              "                                                  StandardScaler())]),\n",
              "                                 [&#x27;Item_Fat_Content&#x27;, &#x27;Outlet_Size&#x27;,\n",
              "                                  &#x27;Outlet_Location_Type&#x27;]),\n",
              "                                (&#x27;categorical&#x27;,\n",
              "                                 Pipeline(steps=[(&#x27;simpleimputer&#x27;,\n",
              "                                                  SimpleImputer(fill_value=&#x27;NA&#x27;,\n",
              "                                                                strategy=&#x27;constant&#x27;)),\n",
              "                                                 (&#x27;onehotencoder&#x27;,\n",
              "                                                  OneHotEncoder(handle_unknown=&#x27;ignore&#x27;,\n",
              "                                                                sparse_output=False))]),\n",
              "                                 Index([&#x27;Item_Type&#x27;, &#x27;Outlet_Identifier&#x27;, &#x27;Outlet_Type&#x27;], dtype=&#x27;object&#x27;))],\n",
              "                  verbose_feature_names_out=False)</pre><b>In a Jupyter environment, please rerun this cell to show the HTML representation or trust the notebook. <br />On GitHub, the HTML representation is unable to render, please try loading this page with nbviewer.org.</b></div><div class=\"sk-container\" hidden><div class=\"sk-item sk-dashed-wrapped\"><div class=\"sk-label-container\"><div class=\"sk-label sk-toggleable\"><input class=\"sk-toggleable__control sk-hidden--visually\" id=\"sk-estimator-id-12\" type=\"checkbox\" ><label for=\"sk-estimator-id-12\" class=\"sk-toggleable__label sk-toggleable__label-arrow\">ColumnTransformer</label><div class=\"sk-toggleable__content\"><pre>ColumnTransformer(transformers=[(&#x27;numeric&#x27;,\n",
              "                                 Pipeline(steps=[(&#x27;simpleimputer&#x27;,\n",
              "                                                  SimpleImputer()),\n",
              "                                                 (&#x27;standardscaler&#x27;,\n",
              "                                                  StandardScaler())]),\n",
              "                                 Index([&#x27;Item_Weight&#x27;, &#x27;Item_Visibility&#x27;, &#x27;Item_MRP&#x27;,\n",
              "       &#x27;Outlet_Establishment_Year&#x27;],\n",
              "      dtype=&#x27;object&#x27;)),\n",
              "                                (&#x27;ordinal&#x27;,\n",
              "                                 Pipeline(steps=[(&#x27;simpleimputer&#x27;,\n",
              "                                                  SimpleImputer(fill_value=&#x27;NA&#x27;,\n",
              "                                                                strategy=&#x27;constant&#x27;)),\n",
              "                                                 (&#x27;ordinalencoder&#x27;,\n",
              "                                                  OrdinalEn...\n",
              "                                                  StandardScaler())]),\n",
              "                                 [&#x27;Item_Fat_Content&#x27;, &#x27;Outlet_Size&#x27;,\n",
              "                                  &#x27;Outlet_Location_Type&#x27;]),\n",
              "                                (&#x27;categorical&#x27;,\n",
              "                                 Pipeline(steps=[(&#x27;simpleimputer&#x27;,\n",
              "                                                  SimpleImputer(fill_value=&#x27;NA&#x27;,\n",
              "                                                                strategy=&#x27;constant&#x27;)),\n",
              "                                                 (&#x27;onehotencoder&#x27;,\n",
              "                                                  OneHotEncoder(handle_unknown=&#x27;ignore&#x27;,\n",
              "                                                                sparse_output=False))]),\n",
              "                                 Index([&#x27;Item_Type&#x27;, &#x27;Outlet_Identifier&#x27;, &#x27;Outlet_Type&#x27;], dtype=&#x27;object&#x27;))],\n",
              "                  verbose_feature_names_out=False)</pre></div></div></div><div class=\"sk-parallel\"><div class=\"sk-parallel-item\"><div class=\"sk-item\"><div class=\"sk-label-container\"><div class=\"sk-label sk-toggleable\"><input class=\"sk-toggleable__control sk-hidden--visually\" id=\"sk-estimator-id-13\" type=\"checkbox\" ><label for=\"sk-estimator-id-13\" class=\"sk-toggleable__label sk-toggleable__label-arrow\">numeric</label><div class=\"sk-toggleable__content\"><pre>Index([&#x27;Item_Weight&#x27;, &#x27;Item_Visibility&#x27;, &#x27;Item_MRP&#x27;,\n",
              "       &#x27;Outlet_Establishment_Year&#x27;],\n",
              "      dtype=&#x27;object&#x27;)</pre></div></div></div><div class=\"sk-serial\"><div class=\"sk-item\"><div class=\"sk-serial\"><div class=\"sk-item\"><div class=\"sk-estimator sk-toggleable\"><input class=\"sk-toggleable__control sk-hidden--visually\" id=\"sk-estimator-id-14\" type=\"checkbox\" ><label for=\"sk-estimator-id-14\" class=\"sk-toggleable__label sk-toggleable__label-arrow\">SimpleImputer</label><div class=\"sk-toggleable__content\"><pre>SimpleImputer()</pre></div></div></div><div class=\"sk-item\"><div class=\"sk-estimator sk-toggleable\"><input class=\"sk-toggleable__control sk-hidden--visually\" id=\"sk-estimator-id-15\" type=\"checkbox\" ><label for=\"sk-estimator-id-15\" class=\"sk-toggleable__label sk-toggleable__label-arrow\">StandardScaler</label><div class=\"sk-toggleable__content\"><pre>StandardScaler()</pre></div></div></div></div></div></div></div></div><div class=\"sk-parallel-item\"><div class=\"sk-item\"><div class=\"sk-label-container\"><div class=\"sk-label sk-toggleable\"><input class=\"sk-toggleable__control sk-hidden--visually\" id=\"sk-estimator-id-16\" type=\"checkbox\" ><label for=\"sk-estimator-id-16\" class=\"sk-toggleable__label sk-toggleable__label-arrow\">ordinal</label><div class=\"sk-toggleable__content\"><pre>[&#x27;Item_Fat_Content&#x27;, &#x27;Outlet_Size&#x27;, &#x27;Outlet_Location_Type&#x27;]</pre></div></div></div><div class=\"sk-serial\"><div class=\"sk-item\"><div class=\"sk-serial\"><div class=\"sk-item\"><div class=\"sk-estimator sk-toggleable\"><input class=\"sk-toggleable__control sk-hidden--visually\" id=\"sk-estimator-id-17\" type=\"checkbox\" ><label for=\"sk-estimator-id-17\" class=\"sk-toggleable__label sk-toggleable__label-arrow\">SimpleImputer</label><div class=\"sk-toggleable__content\"><pre>SimpleImputer(fill_value=&#x27;NA&#x27;, strategy=&#x27;constant&#x27;)</pre></div></div></div><div class=\"sk-item\"><div class=\"sk-estimator sk-toggleable\"><input class=\"sk-toggleable__control sk-hidden--visually\" id=\"sk-estimator-id-18\" type=\"checkbox\" ><label for=\"sk-estimator-id-18\" class=\"sk-toggleable__label sk-toggleable__label-arrow\">OrdinalEncoder</label><div class=\"sk-toggleable__content\"><pre>OrdinalEncoder(categories=[[&#x27;Low Fat&#x27;, &#x27;Regular&#x27;],\n",
              "                           [&#x27;NA&#x27;, &#x27;Small&#x27;, &#x27;Medium&#x27;, &#x27;High&#x27;],\n",
              "                           [&#x27;Tier 1&#x27;, &#x27;Tier 2&#x27;, &#x27;Tier 3&#x27;]])</pre></div></div></div><div class=\"sk-item\"><div class=\"sk-estimator sk-toggleable\"><input class=\"sk-toggleable__control sk-hidden--visually\" id=\"sk-estimator-id-19\" type=\"checkbox\" ><label for=\"sk-estimator-id-19\" class=\"sk-toggleable__label sk-toggleable__label-arrow\">StandardScaler</label><div class=\"sk-toggleable__content\"><pre>StandardScaler()</pre></div></div></div></div></div></div></div></div><div class=\"sk-parallel-item\"><div class=\"sk-item\"><div class=\"sk-label-container\"><div class=\"sk-label sk-toggleable\"><input class=\"sk-toggleable__control sk-hidden--visually\" id=\"sk-estimator-id-20\" type=\"checkbox\" ><label for=\"sk-estimator-id-20\" class=\"sk-toggleable__label sk-toggleable__label-arrow\">categorical</label><div class=\"sk-toggleable__content\"><pre>Index([&#x27;Item_Type&#x27;, &#x27;Outlet_Identifier&#x27;, &#x27;Outlet_Type&#x27;], dtype=&#x27;object&#x27;)</pre></div></div></div><div class=\"sk-serial\"><div class=\"sk-item\"><div class=\"sk-serial\"><div class=\"sk-item\"><div class=\"sk-estimator sk-toggleable\"><input class=\"sk-toggleable__control sk-hidden--visually\" id=\"sk-estimator-id-21\" type=\"checkbox\" ><label for=\"sk-estimator-id-21\" class=\"sk-toggleable__label sk-toggleable__label-arrow\">SimpleImputer</label><div class=\"sk-toggleable__content\"><pre>SimpleImputer(fill_value=&#x27;NA&#x27;, strategy=&#x27;constant&#x27;)</pre></div></div></div><div class=\"sk-item\"><div class=\"sk-estimator sk-toggleable\"><input class=\"sk-toggleable__control sk-hidden--visually\" id=\"sk-estimator-id-22\" type=\"checkbox\" ><label for=\"sk-estimator-id-22\" class=\"sk-toggleable__label sk-toggleable__label-arrow\">OneHotEncoder</label><div class=\"sk-toggleable__content\"><pre>OneHotEncoder(handle_unknown=&#x27;ignore&#x27;, sparse_output=False)</pre></div></div></div></div></div></div></div></div></div></div></div></div>"
            ]
          },
          "metadata": {},
          "execution_count": 25
        }
      ]
    },
    {
      "cell_type": "code",
      "source": [
        "# Instantiate a linear regression model\n",
        "linreg = LinearRegression()\n",
        "# Combine the preprocessing ColumnTransformer and the linear regression model in a Pipeline\n",
        "linreg_pipe = make_pipeline(preprocessor, linreg)\n",
        "linreg_pipe"
      ],
      "metadata": {
        "colab": {
          "base_uri": "https://localhost:8080/",
          "height": 260
        },
        "id": "SwompsagL9Ly",
        "outputId": "12ec94c7-b908-458e-b183-a113d0d3b3fc"
      },
      "execution_count": null,
      "outputs": [
        {
          "output_type": "execute_result",
          "data": {
            "text/plain": [
              "Pipeline(steps=[('columntransformer',\n",
              "                 ColumnTransformer(transformers=[('numeric',\n",
              "                                                  Pipeline(steps=[('simpleimputer',\n",
              "                                                                   SimpleImputer()),\n",
              "                                                                  ('standardscaler',\n",
              "                                                                   StandardScaler())]),\n",
              "                                                  Index(['Item_Weight', 'Item_Visibility', 'Item_MRP',\n",
              "       'Outlet_Establishment_Year'],\n",
              "      dtype='object')),\n",
              "                                                 ('ordinal',\n",
              "                                                  Pipeline(steps=[('simpleimputer',\n",
              "                                                                   SimpleImputer(fill_value='NA',\n",
              "                                                                                 strategy='co...\n",
              "                                                   'Outlet_Location_Type']),\n",
              "                                                 ('categorical',\n",
              "                                                  Pipeline(steps=[('simpleimputer',\n",
              "                                                                   SimpleImputer(fill_value='NA',\n",
              "                                                                                 strategy='constant')),\n",
              "                                                                  ('onehotencoder',\n",
              "                                                                   OneHotEncoder(handle_unknown='ignore',\n",
              "                                                                                 sparse_output=False))]),\n",
              "                                                  Index(['Item_Type', 'Outlet_Identifier', 'Outlet_Type'], dtype='object'))],\n",
              "                                   verbose_feature_names_out=False)),\n",
              "                ('linearregression', LinearRegression())])"
            ],
            "text/html": [
              "<style>#sk-container-id-3 {color: black;background-color: white;}#sk-container-id-3 pre{padding: 0;}#sk-container-id-3 div.sk-toggleable {background-color: white;}#sk-container-id-3 label.sk-toggleable__label {cursor: pointer;display: block;width: 100%;margin-bottom: 0;padding: 0.3em;box-sizing: border-box;text-align: center;}#sk-container-id-3 label.sk-toggleable__label-arrow:before {content: \"▸\";float: left;margin-right: 0.25em;color: #696969;}#sk-container-id-3 label.sk-toggleable__label-arrow:hover:before {color: black;}#sk-container-id-3 div.sk-estimator:hover label.sk-toggleable__label-arrow:before {color: black;}#sk-container-id-3 div.sk-toggleable__content {max-height: 0;max-width: 0;overflow: hidden;text-align: left;background-color: #f0f8ff;}#sk-container-id-3 div.sk-toggleable__content pre {margin: 0.2em;color: black;border-radius: 0.25em;background-color: #f0f8ff;}#sk-container-id-3 input.sk-toggleable__control:checked~div.sk-toggleable__content {max-height: 200px;max-width: 100%;overflow: auto;}#sk-container-id-3 input.sk-toggleable__control:checked~label.sk-toggleable__label-arrow:before {content: \"▾\";}#sk-container-id-3 div.sk-estimator input.sk-toggleable__control:checked~label.sk-toggleable__label {background-color: #d4ebff;}#sk-container-id-3 div.sk-label input.sk-toggleable__control:checked~label.sk-toggleable__label {background-color: #d4ebff;}#sk-container-id-3 input.sk-hidden--visually {border: 0;clip: rect(1px 1px 1px 1px);clip: rect(1px, 1px, 1px, 1px);height: 1px;margin: -1px;overflow: hidden;padding: 0;position: absolute;width: 1px;}#sk-container-id-3 div.sk-estimator {font-family: monospace;background-color: #f0f8ff;border: 1px dotted black;border-radius: 0.25em;box-sizing: border-box;margin-bottom: 0.5em;}#sk-container-id-3 div.sk-estimator:hover {background-color: #d4ebff;}#sk-container-id-3 div.sk-parallel-item::after {content: \"\";width: 100%;border-bottom: 1px solid gray;flex-grow: 1;}#sk-container-id-3 div.sk-label:hover label.sk-toggleable__label {background-color: #d4ebff;}#sk-container-id-3 div.sk-serial::before {content: \"\";position: absolute;border-left: 1px solid gray;box-sizing: border-box;top: 0;bottom: 0;left: 50%;z-index: 0;}#sk-container-id-3 div.sk-serial {display: flex;flex-direction: column;align-items: center;background-color: white;padding-right: 0.2em;padding-left: 0.2em;position: relative;}#sk-container-id-3 div.sk-item {position: relative;z-index: 1;}#sk-container-id-3 div.sk-parallel {display: flex;align-items: stretch;justify-content: center;background-color: white;position: relative;}#sk-container-id-3 div.sk-item::before, #sk-container-id-3 div.sk-parallel-item::before {content: \"\";position: absolute;border-left: 1px solid gray;box-sizing: border-box;top: 0;bottom: 0;left: 50%;z-index: -1;}#sk-container-id-3 div.sk-parallel-item {display: flex;flex-direction: column;z-index: 1;position: relative;background-color: white;}#sk-container-id-3 div.sk-parallel-item:first-child::after {align-self: flex-end;width: 50%;}#sk-container-id-3 div.sk-parallel-item:last-child::after {align-self: flex-start;width: 50%;}#sk-container-id-3 div.sk-parallel-item:only-child::after {width: 0;}#sk-container-id-3 div.sk-dashed-wrapped {border: 1px dashed gray;margin: 0 0.4em 0.5em 0.4em;box-sizing: border-box;padding-bottom: 0.4em;background-color: white;}#sk-container-id-3 div.sk-label label {font-family: monospace;font-weight: bold;display: inline-block;line-height: 1.2em;}#sk-container-id-3 div.sk-label-container {text-align: center;}#sk-container-id-3 div.sk-container {/* jupyter's `normalize.less` sets `[hidden] { display: none; }` but bootstrap.min.css set `[hidden] { display: none !important; }` so we also need the `!important` here to be able to override the default hidden behavior on the sphinx rendered scikit-learn.org. See: https://github.com/scikit-learn/scikit-learn/issues/21755 */display: inline-block !important;position: relative;}#sk-container-id-3 div.sk-text-repr-fallback {display: none;}</style><div id=\"sk-container-id-3\" class=\"sk-top-container\"><div class=\"sk-text-repr-fallback\"><pre>Pipeline(steps=[(&#x27;columntransformer&#x27;,\n",
              "                 ColumnTransformer(transformers=[(&#x27;numeric&#x27;,\n",
              "                                                  Pipeline(steps=[(&#x27;simpleimputer&#x27;,\n",
              "                                                                   SimpleImputer()),\n",
              "                                                                  (&#x27;standardscaler&#x27;,\n",
              "                                                                   StandardScaler())]),\n",
              "                                                  Index([&#x27;Item_Weight&#x27;, &#x27;Item_Visibility&#x27;, &#x27;Item_MRP&#x27;,\n",
              "       &#x27;Outlet_Establishment_Year&#x27;],\n",
              "      dtype=&#x27;object&#x27;)),\n",
              "                                                 (&#x27;ordinal&#x27;,\n",
              "                                                  Pipeline(steps=[(&#x27;simpleimputer&#x27;,\n",
              "                                                                   SimpleImputer(fill_value=&#x27;NA&#x27;,\n",
              "                                                                                 strategy=&#x27;co...\n",
              "                                                   &#x27;Outlet_Location_Type&#x27;]),\n",
              "                                                 (&#x27;categorical&#x27;,\n",
              "                                                  Pipeline(steps=[(&#x27;simpleimputer&#x27;,\n",
              "                                                                   SimpleImputer(fill_value=&#x27;NA&#x27;,\n",
              "                                                                                 strategy=&#x27;constant&#x27;)),\n",
              "                                                                  (&#x27;onehotencoder&#x27;,\n",
              "                                                                   OneHotEncoder(handle_unknown=&#x27;ignore&#x27;,\n",
              "                                                                                 sparse_output=False))]),\n",
              "                                                  Index([&#x27;Item_Type&#x27;, &#x27;Outlet_Identifier&#x27;, &#x27;Outlet_Type&#x27;], dtype=&#x27;object&#x27;))],\n",
              "                                   verbose_feature_names_out=False)),\n",
              "                (&#x27;linearregression&#x27;, LinearRegression())])</pre><b>In a Jupyter environment, please rerun this cell to show the HTML representation or trust the notebook. <br />On GitHub, the HTML representation is unable to render, please try loading this page with nbviewer.org.</b></div><div class=\"sk-container\" hidden><div class=\"sk-item sk-dashed-wrapped\"><div class=\"sk-label-container\"><div class=\"sk-label sk-toggleable\"><input class=\"sk-toggleable__control sk-hidden--visually\" id=\"sk-estimator-id-23\" type=\"checkbox\" ><label for=\"sk-estimator-id-23\" class=\"sk-toggleable__label sk-toggleable__label-arrow\">Pipeline</label><div class=\"sk-toggleable__content\"><pre>Pipeline(steps=[(&#x27;columntransformer&#x27;,\n",
              "                 ColumnTransformer(transformers=[(&#x27;numeric&#x27;,\n",
              "                                                  Pipeline(steps=[(&#x27;simpleimputer&#x27;,\n",
              "                                                                   SimpleImputer()),\n",
              "                                                                  (&#x27;standardscaler&#x27;,\n",
              "                                                                   StandardScaler())]),\n",
              "                                                  Index([&#x27;Item_Weight&#x27;, &#x27;Item_Visibility&#x27;, &#x27;Item_MRP&#x27;,\n",
              "       &#x27;Outlet_Establishment_Year&#x27;],\n",
              "      dtype=&#x27;object&#x27;)),\n",
              "                                                 (&#x27;ordinal&#x27;,\n",
              "                                                  Pipeline(steps=[(&#x27;simpleimputer&#x27;,\n",
              "                                                                   SimpleImputer(fill_value=&#x27;NA&#x27;,\n",
              "                                                                                 strategy=&#x27;co...\n",
              "                                                   &#x27;Outlet_Location_Type&#x27;]),\n",
              "                                                 (&#x27;categorical&#x27;,\n",
              "                                                  Pipeline(steps=[(&#x27;simpleimputer&#x27;,\n",
              "                                                                   SimpleImputer(fill_value=&#x27;NA&#x27;,\n",
              "                                                                                 strategy=&#x27;constant&#x27;)),\n",
              "                                                                  (&#x27;onehotencoder&#x27;,\n",
              "                                                                   OneHotEncoder(handle_unknown=&#x27;ignore&#x27;,\n",
              "                                                                                 sparse_output=False))]),\n",
              "                                                  Index([&#x27;Item_Type&#x27;, &#x27;Outlet_Identifier&#x27;, &#x27;Outlet_Type&#x27;], dtype=&#x27;object&#x27;))],\n",
              "                                   verbose_feature_names_out=False)),\n",
              "                (&#x27;linearregression&#x27;, LinearRegression())])</pre></div></div></div><div class=\"sk-serial\"><div class=\"sk-item sk-dashed-wrapped\"><div class=\"sk-label-container\"><div class=\"sk-label sk-toggleable\"><input class=\"sk-toggleable__control sk-hidden--visually\" id=\"sk-estimator-id-24\" type=\"checkbox\" ><label for=\"sk-estimator-id-24\" class=\"sk-toggleable__label sk-toggleable__label-arrow\">columntransformer: ColumnTransformer</label><div class=\"sk-toggleable__content\"><pre>ColumnTransformer(transformers=[(&#x27;numeric&#x27;,\n",
              "                                 Pipeline(steps=[(&#x27;simpleimputer&#x27;,\n",
              "                                                  SimpleImputer()),\n",
              "                                                 (&#x27;standardscaler&#x27;,\n",
              "                                                  StandardScaler())]),\n",
              "                                 Index([&#x27;Item_Weight&#x27;, &#x27;Item_Visibility&#x27;, &#x27;Item_MRP&#x27;,\n",
              "       &#x27;Outlet_Establishment_Year&#x27;],\n",
              "      dtype=&#x27;object&#x27;)),\n",
              "                                (&#x27;ordinal&#x27;,\n",
              "                                 Pipeline(steps=[(&#x27;simpleimputer&#x27;,\n",
              "                                                  SimpleImputer(fill_value=&#x27;NA&#x27;,\n",
              "                                                                strategy=&#x27;constant&#x27;)),\n",
              "                                                 (&#x27;ordinalencoder&#x27;,\n",
              "                                                  OrdinalEn...\n",
              "                                                  StandardScaler())]),\n",
              "                                 [&#x27;Item_Fat_Content&#x27;, &#x27;Outlet_Size&#x27;,\n",
              "                                  &#x27;Outlet_Location_Type&#x27;]),\n",
              "                                (&#x27;categorical&#x27;,\n",
              "                                 Pipeline(steps=[(&#x27;simpleimputer&#x27;,\n",
              "                                                  SimpleImputer(fill_value=&#x27;NA&#x27;,\n",
              "                                                                strategy=&#x27;constant&#x27;)),\n",
              "                                                 (&#x27;onehotencoder&#x27;,\n",
              "                                                  OneHotEncoder(handle_unknown=&#x27;ignore&#x27;,\n",
              "                                                                sparse_output=False))]),\n",
              "                                 Index([&#x27;Item_Type&#x27;, &#x27;Outlet_Identifier&#x27;, &#x27;Outlet_Type&#x27;], dtype=&#x27;object&#x27;))],\n",
              "                  verbose_feature_names_out=False)</pre></div></div></div><div class=\"sk-parallel\"><div class=\"sk-parallel-item\"><div class=\"sk-item\"><div class=\"sk-label-container\"><div class=\"sk-label sk-toggleable\"><input class=\"sk-toggleable__control sk-hidden--visually\" id=\"sk-estimator-id-25\" type=\"checkbox\" ><label for=\"sk-estimator-id-25\" class=\"sk-toggleable__label sk-toggleable__label-arrow\">numeric</label><div class=\"sk-toggleable__content\"><pre>Index([&#x27;Item_Weight&#x27;, &#x27;Item_Visibility&#x27;, &#x27;Item_MRP&#x27;,\n",
              "       &#x27;Outlet_Establishment_Year&#x27;],\n",
              "      dtype=&#x27;object&#x27;)</pre></div></div></div><div class=\"sk-serial\"><div class=\"sk-item\"><div class=\"sk-serial\"><div class=\"sk-item\"><div class=\"sk-estimator sk-toggleable\"><input class=\"sk-toggleable__control sk-hidden--visually\" id=\"sk-estimator-id-26\" type=\"checkbox\" ><label for=\"sk-estimator-id-26\" class=\"sk-toggleable__label sk-toggleable__label-arrow\">SimpleImputer</label><div class=\"sk-toggleable__content\"><pre>SimpleImputer()</pre></div></div></div><div class=\"sk-item\"><div class=\"sk-estimator sk-toggleable\"><input class=\"sk-toggleable__control sk-hidden--visually\" id=\"sk-estimator-id-27\" type=\"checkbox\" ><label for=\"sk-estimator-id-27\" class=\"sk-toggleable__label sk-toggleable__label-arrow\">StandardScaler</label><div class=\"sk-toggleable__content\"><pre>StandardScaler()</pre></div></div></div></div></div></div></div></div><div class=\"sk-parallel-item\"><div class=\"sk-item\"><div class=\"sk-label-container\"><div class=\"sk-label sk-toggleable\"><input class=\"sk-toggleable__control sk-hidden--visually\" id=\"sk-estimator-id-28\" type=\"checkbox\" ><label for=\"sk-estimator-id-28\" class=\"sk-toggleable__label sk-toggleable__label-arrow\">ordinal</label><div class=\"sk-toggleable__content\"><pre>[&#x27;Item_Fat_Content&#x27;, &#x27;Outlet_Size&#x27;, &#x27;Outlet_Location_Type&#x27;]</pre></div></div></div><div class=\"sk-serial\"><div class=\"sk-item\"><div class=\"sk-serial\"><div class=\"sk-item\"><div class=\"sk-estimator sk-toggleable\"><input class=\"sk-toggleable__control sk-hidden--visually\" id=\"sk-estimator-id-29\" type=\"checkbox\" ><label for=\"sk-estimator-id-29\" class=\"sk-toggleable__label sk-toggleable__label-arrow\">SimpleImputer</label><div class=\"sk-toggleable__content\"><pre>SimpleImputer(fill_value=&#x27;NA&#x27;, strategy=&#x27;constant&#x27;)</pre></div></div></div><div class=\"sk-item\"><div class=\"sk-estimator sk-toggleable\"><input class=\"sk-toggleable__control sk-hidden--visually\" id=\"sk-estimator-id-30\" type=\"checkbox\" ><label for=\"sk-estimator-id-30\" class=\"sk-toggleable__label sk-toggleable__label-arrow\">OrdinalEncoder</label><div class=\"sk-toggleable__content\"><pre>OrdinalEncoder(categories=[[&#x27;Low Fat&#x27;, &#x27;Regular&#x27;],\n",
              "                           [&#x27;NA&#x27;, &#x27;Small&#x27;, &#x27;Medium&#x27;, &#x27;High&#x27;],\n",
              "                           [&#x27;Tier 1&#x27;, &#x27;Tier 2&#x27;, &#x27;Tier 3&#x27;]])</pre></div></div></div><div class=\"sk-item\"><div class=\"sk-estimator sk-toggleable\"><input class=\"sk-toggleable__control sk-hidden--visually\" id=\"sk-estimator-id-31\" type=\"checkbox\" ><label for=\"sk-estimator-id-31\" class=\"sk-toggleable__label sk-toggleable__label-arrow\">StandardScaler</label><div class=\"sk-toggleable__content\"><pre>StandardScaler()</pre></div></div></div></div></div></div></div></div><div class=\"sk-parallel-item\"><div class=\"sk-item\"><div class=\"sk-label-container\"><div class=\"sk-label sk-toggleable\"><input class=\"sk-toggleable__control sk-hidden--visually\" id=\"sk-estimator-id-32\" type=\"checkbox\" ><label for=\"sk-estimator-id-32\" class=\"sk-toggleable__label sk-toggleable__label-arrow\">categorical</label><div class=\"sk-toggleable__content\"><pre>Index([&#x27;Item_Type&#x27;, &#x27;Outlet_Identifier&#x27;, &#x27;Outlet_Type&#x27;], dtype=&#x27;object&#x27;)</pre></div></div></div><div class=\"sk-serial\"><div class=\"sk-item\"><div class=\"sk-serial\"><div class=\"sk-item\"><div class=\"sk-estimator sk-toggleable\"><input class=\"sk-toggleable__control sk-hidden--visually\" id=\"sk-estimator-id-33\" type=\"checkbox\" ><label for=\"sk-estimator-id-33\" class=\"sk-toggleable__label sk-toggleable__label-arrow\">SimpleImputer</label><div class=\"sk-toggleable__content\"><pre>SimpleImputer(fill_value=&#x27;NA&#x27;, strategy=&#x27;constant&#x27;)</pre></div></div></div><div class=\"sk-item\"><div class=\"sk-estimator sk-toggleable\"><input class=\"sk-toggleable__control sk-hidden--visually\" id=\"sk-estimator-id-34\" type=\"checkbox\" ><label for=\"sk-estimator-id-34\" class=\"sk-toggleable__label sk-toggleable__label-arrow\">OneHotEncoder</label><div class=\"sk-toggleable__content\"><pre>OneHotEncoder(handle_unknown=&#x27;ignore&#x27;, sparse_output=False)</pre></div></div></div></div></div></div></div></div></div></div><div class=\"sk-item\"><div class=\"sk-estimator sk-toggleable\"><input class=\"sk-toggleable__control sk-hidden--visually\" id=\"sk-estimator-id-35\" type=\"checkbox\" ><label for=\"sk-estimator-id-35\" class=\"sk-toggleable__label sk-toggleable__label-arrow\">LinearRegression</label><div class=\"sk-toggleable__content\"><pre>LinearRegression()</pre></div></div></div></div></div></div></div>"
            ]
          },
          "metadata": {},
          "execution_count": 28
        }
      ]
    },
    {
      "cell_type": "code",
      "source": [
        "# Fit the model pipeline on the training data\n",
        "linreg_pipe.fit(X_train, y_train)"
      ],
      "metadata": {
        "colab": {
          "base_uri": "https://localhost:8080/",
          "height": 260
        },
        "id": "maboDMP4MGvD",
        "outputId": "513004b6-30bc-46a5-950d-d286a5dd5ebc"
      },
      "execution_count": null,
      "outputs": [
        {
          "output_type": "execute_result",
          "data": {
            "text/plain": [
              "Pipeline(steps=[('columntransformer',\n",
              "                 ColumnTransformer(transformers=[('numeric',\n",
              "                                                  Pipeline(steps=[('simpleimputer',\n",
              "                                                                   SimpleImputer()),\n",
              "                                                                  ('standardscaler',\n",
              "                                                                   StandardScaler())]),\n",
              "                                                  Index(['Item_Weight', 'Item_Visibility', 'Item_MRP',\n",
              "       'Outlet_Establishment_Year'],\n",
              "      dtype='object')),\n",
              "                                                 ('ordinal',\n",
              "                                                  Pipeline(steps=[('simpleimputer',\n",
              "                                                                   SimpleImputer(fill_value='NA',\n",
              "                                                                                 strategy='co...\n",
              "                                                   'Outlet_Location_Type']),\n",
              "                                                 ('categorical',\n",
              "                                                  Pipeline(steps=[('simpleimputer',\n",
              "                                                                   SimpleImputer(fill_value='NA',\n",
              "                                                                                 strategy='constant')),\n",
              "                                                                  ('onehotencoder',\n",
              "                                                                   OneHotEncoder(handle_unknown='ignore',\n",
              "                                                                                 sparse_output=False))]),\n",
              "                                                  Index(['Item_Type', 'Outlet_Identifier', 'Outlet_Type'], dtype='object'))],\n",
              "                                   verbose_feature_names_out=False)),\n",
              "                ('linearregression', LinearRegression())])"
            ],
            "text/html": [
              "<style>#sk-container-id-4 {color: black;background-color: white;}#sk-container-id-4 pre{padding: 0;}#sk-container-id-4 div.sk-toggleable {background-color: white;}#sk-container-id-4 label.sk-toggleable__label {cursor: pointer;display: block;width: 100%;margin-bottom: 0;padding: 0.3em;box-sizing: border-box;text-align: center;}#sk-container-id-4 label.sk-toggleable__label-arrow:before {content: \"▸\";float: left;margin-right: 0.25em;color: #696969;}#sk-container-id-4 label.sk-toggleable__label-arrow:hover:before {color: black;}#sk-container-id-4 div.sk-estimator:hover label.sk-toggleable__label-arrow:before {color: black;}#sk-container-id-4 div.sk-toggleable__content {max-height: 0;max-width: 0;overflow: hidden;text-align: left;background-color: #f0f8ff;}#sk-container-id-4 div.sk-toggleable__content pre {margin: 0.2em;color: black;border-radius: 0.25em;background-color: #f0f8ff;}#sk-container-id-4 input.sk-toggleable__control:checked~div.sk-toggleable__content {max-height: 200px;max-width: 100%;overflow: auto;}#sk-container-id-4 input.sk-toggleable__control:checked~label.sk-toggleable__label-arrow:before {content: \"▾\";}#sk-container-id-4 div.sk-estimator input.sk-toggleable__control:checked~label.sk-toggleable__label {background-color: #d4ebff;}#sk-container-id-4 div.sk-label input.sk-toggleable__control:checked~label.sk-toggleable__label {background-color: #d4ebff;}#sk-container-id-4 input.sk-hidden--visually {border: 0;clip: rect(1px 1px 1px 1px);clip: rect(1px, 1px, 1px, 1px);height: 1px;margin: -1px;overflow: hidden;padding: 0;position: absolute;width: 1px;}#sk-container-id-4 div.sk-estimator {font-family: monospace;background-color: #f0f8ff;border: 1px dotted black;border-radius: 0.25em;box-sizing: border-box;margin-bottom: 0.5em;}#sk-container-id-4 div.sk-estimator:hover {background-color: #d4ebff;}#sk-container-id-4 div.sk-parallel-item::after {content: \"\";width: 100%;border-bottom: 1px solid gray;flex-grow: 1;}#sk-container-id-4 div.sk-label:hover label.sk-toggleable__label {background-color: #d4ebff;}#sk-container-id-4 div.sk-serial::before {content: \"\";position: absolute;border-left: 1px solid gray;box-sizing: border-box;top: 0;bottom: 0;left: 50%;z-index: 0;}#sk-container-id-4 div.sk-serial {display: flex;flex-direction: column;align-items: center;background-color: white;padding-right: 0.2em;padding-left: 0.2em;position: relative;}#sk-container-id-4 div.sk-item {position: relative;z-index: 1;}#sk-container-id-4 div.sk-parallel {display: flex;align-items: stretch;justify-content: center;background-color: white;position: relative;}#sk-container-id-4 div.sk-item::before, #sk-container-id-4 div.sk-parallel-item::before {content: \"\";position: absolute;border-left: 1px solid gray;box-sizing: border-box;top: 0;bottom: 0;left: 50%;z-index: -1;}#sk-container-id-4 div.sk-parallel-item {display: flex;flex-direction: column;z-index: 1;position: relative;background-color: white;}#sk-container-id-4 div.sk-parallel-item:first-child::after {align-self: flex-end;width: 50%;}#sk-container-id-4 div.sk-parallel-item:last-child::after {align-self: flex-start;width: 50%;}#sk-container-id-4 div.sk-parallel-item:only-child::after {width: 0;}#sk-container-id-4 div.sk-dashed-wrapped {border: 1px dashed gray;margin: 0 0.4em 0.5em 0.4em;box-sizing: border-box;padding-bottom: 0.4em;background-color: white;}#sk-container-id-4 div.sk-label label {font-family: monospace;font-weight: bold;display: inline-block;line-height: 1.2em;}#sk-container-id-4 div.sk-label-container {text-align: center;}#sk-container-id-4 div.sk-container {/* jupyter's `normalize.less` sets `[hidden] { display: none; }` but bootstrap.min.css set `[hidden] { display: none !important; }` so we also need the `!important` here to be able to override the default hidden behavior on the sphinx rendered scikit-learn.org. See: https://github.com/scikit-learn/scikit-learn/issues/21755 */display: inline-block !important;position: relative;}#sk-container-id-4 div.sk-text-repr-fallback {display: none;}</style><div id=\"sk-container-id-4\" class=\"sk-top-container\"><div class=\"sk-text-repr-fallback\"><pre>Pipeline(steps=[(&#x27;columntransformer&#x27;,\n",
              "                 ColumnTransformer(transformers=[(&#x27;numeric&#x27;,\n",
              "                                                  Pipeline(steps=[(&#x27;simpleimputer&#x27;,\n",
              "                                                                   SimpleImputer()),\n",
              "                                                                  (&#x27;standardscaler&#x27;,\n",
              "                                                                   StandardScaler())]),\n",
              "                                                  Index([&#x27;Item_Weight&#x27;, &#x27;Item_Visibility&#x27;, &#x27;Item_MRP&#x27;,\n",
              "       &#x27;Outlet_Establishment_Year&#x27;],\n",
              "      dtype=&#x27;object&#x27;)),\n",
              "                                                 (&#x27;ordinal&#x27;,\n",
              "                                                  Pipeline(steps=[(&#x27;simpleimputer&#x27;,\n",
              "                                                                   SimpleImputer(fill_value=&#x27;NA&#x27;,\n",
              "                                                                                 strategy=&#x27;co...\n",
              "                                                   &#x27;Outlet_Location_Type&#x27;]),\n",
              "                                                 (&#x27;categorical&#x27;,\n",
              "                                                  Pipeline(steps=[(&#x27;simpleimputer&#x27;,\n",
              "                                                                   SimpleImputer(fill_value=&#x27;NA&#x27;,\n",
              "                                                                                 strategy=&#x27;constant&#x27;)),\n",
              "                                                                  (&#x27;onehotencoder&#x27;,\n",
              "                                                                   OneHotEncoder(handle_unknown=&#x27;ignore&#x27;,\n",
              "                                                                                 sparse_output=False))]),\n",
              "                                                  Index([&#x27;Item_Type&#x27;, &#x27;Outlet_Identifier&#x27;, &#x27;Outlet_Type&#x27;], dtype=&#x27;object&#x27;))],\n",
              "                                   verbose_feature_names_out=False)),\n",
              "                (&#x27;linearregression&#x27;, LinearRegression())])</pre><b>In a Jupyter environment, please rerun this cell to show the HTML representation or trust the notebook. <br />On GitHub, the HTML representation is unable to render, please try loading this page with nbviewer.org.</b></div><div class=\"sk-container\" hidden><div class=\"sk-item sk-dashed-wrapped\"><div class=\"sk-label-container\"><div class=\"sk-label sk-toggleable\"><input class=\"sk-toggleable__control sk-hidden--visually\" id=\"sk-estimator-id-36\" type=\"checkbox\" ><label for=\"sk-estimator-id-36\" class=\"sk-toggleable__label sk-toggleable__label-arrow\">Pipeline</label><div class=\"sk-toggleable__content\"><pre>Pipeline(steps=[(&#x27;columntransformer&#x27;,\n",
              "                 ColumnTransformer(transformers=[(&#x27;numeric&#x27;,\n",
              "                                                  Pipeline(steps=[(&#x27;simpleimputer&#x27;,\n",
              "                                                                   SimpleImputer()),\n",
              "                                                                  (&#x27;standardscaler&#x27;,\n",
              "                                                                   StandardScaler())]),\n",
              "                                                  Index([&#x27;Item_Weight&#x27;, &#x27;Item_Visibility&#x27;, &#x27;Item_MRP&#x27;,\n",
              "       &#x27;Outlet_Establishment_Year&#x27;],\n",
              "      dtype=&#x27;object&#x27;)),\n",
              "                                                 (&#x27;ordinal&#x27;,\n",
              "                                                  Pipeline(steps=[(&#x27;simpleimputer&#x27;,\n",
              "                                                                   SimpleImputer(fill_value=&#x27;NA&#x27;,\n",
              "                                                                                 strategy=&#x27;co...\n",
              "                                                   &#x27;Outlet_Location_Type&#x27;]),\n",
              "                                                 (&#x27;categorical&#x27;,\n",
              "                                                  Pipeline(steps=[(&#x27;simpleimputer&#x27;,\n",
              "                                                                   SimpleImputer(fill_value=&#x27;NA&#x27;,\n",
              "                                                                                 strategy=&#x27;constant&#x27;)),\n",
              "                                                                  (&#x27;onehotencoder&#x27;,\n",
              "                                                                   OneHotEncoder(handle_unknown=&#x27;ignore&#x27;,\n",
              "                                                                                 sparse_output=False))]),\n",
              "                                                  Index([&#x27;Item_Type&#x27;, &#x27;Outlet_Identifier&#x27;, &#x27;Outlet_Type&#x27;], dtype=&#x27;object&#x27;))],\n",
              "                                   verbose_feature_names_out=False)),\n",
              "                (&#x27;linearregression&#x27;, LinearRegression())])</pre></div></div></div><div class=\"sk-serial\"><div class=\"sk-item sk-dashed-wrapped\"><div class=\"sk-label-container\"><div class=\"sk-label sk-toggleable\"><input class=\"sk-toggleable__control sk-hidden--visually\" id=\"sk-estimator-id-37\" type=\"checkbox\" ><label for=\"sk-estimator-id-37\" class=\"sk-toggleable__label sk-toggleable__label-arrow\">columntransformer: ColumnTransformer</label><div class=\"sk-toggleable__content\"><pre>ColumnTransformer(transformers=[(&#x27;numeric&#x27;,\n",
              "                                 Pipeline(steps=[(&#x27;simpleimputer&#x27;,\n",
              "                                                  SimpleImputer()),\n",
              "                                                 (&#x27;standardscaler&#x27;,\n",
              "                                                  StandardScaler())]),\n",
              "                                 Index([&#x27;Item_Weight&#x27;, &#x27;Item_Visibility&#x27;, &#x27;Item_MRP&#x27;,\n",
              "       &#x27;Outlet_Establishment_Year&#x27;],\n",
              "      dtype=&#x27;object&#x27;)),\n",
              "                                (&#x27;ordinal&#x27;,\n",
              "                                 Pipeline(steps=[(&#x27;simpleimputer&#x27;,\n",
              "                                                  SimpleImputer(fill_value=&#x27;NA&#x27;,\n",
              "                                                                strategy=&#x27;constant&#x27;)),\n",
              "                                                 (&#x27;ordinalencoder&#x27;,\n",
              "                                                  OrdinalEn...\n",
              "                                                  StandardScaler())]),\n",
              "                                 [&#x27;Item_Fat_Content&#x27;, &#x27;Outlet_Size&#x27;,\n",
              "                                  &#x27;Outlet_Location_Type&#x27;]),\n",
              "                                (&#x27;categorical&#x27;,\n",
              "                                 Pipeline(steps=[(&#x27;simpleimputer&#x27;,\n",
              "                                                  SimpleImputer(fill_value=&#x27;NA&#x27;,\n",
              "                                                                strategy=&#x27;constant&#x27;)),\n",
              "                                                 (&#x27;onehotencoder&#x27;,\n",
              "                                                  OneHotEncoder(handle_unknown=&#x27;ignore&#x27;,\n",
              "                                                                sparse_output=False))]),\n",
              "                                 Index([&#x27;Item_Type&#x27;, &#x27;Outlet_Identifier&#x27;, &#x27;Outlet_Type&#x27;], dtype=&#x27;object&#x27;))],\n",
              "                  verbose_feature_names_out=False)</pre></div></div></div><div class=\"sk-parallel\"><div class=\"sk-parallel-item\"><div class=\"sk-item\"><div class=\"sk-label-container\"><div class=\"sk-label sk-toggleable\"><input class=\"sk-toggleable__control sk-hidden--visually\" id=\"sk-estimator-id-38\" type=\"checkbox\" ><label for=\"sk-estimator-id-38\" class=\"sk-toggleable__label sk-toggleable__label-arrow\">numeric</label><div class=\"sk-toggleable__content\"><pre>Index([&#x27;Item_Weight&#x27;, &#x27;Item_Visibility&#x27;, &#x27;Item_MRP&#x27;,\n",
              "       &#x27;Outlet_Establishment_Year&#x27;],\n",
              "      dtype=&#x27;object&#x27;)</pre></div></div></div><div class=\"sk-serial\"><div class=\"sk-item\"><div class=\"sk-serial\"><div class=\"sk-item\"><div class=\"sk-estimator sk-toggleable\"><input class=\"sk-toggleable__control sk-hidden--visually\" id=\"sk-estimator-id-39\" type=\"checkbox\" ><label for=\"sk-estimator-id-39\" class=\"sk-toggleable__label sk-toggleable__label-arrow\">SimpleImputer</label><div class=\"sk-toggleable__content\"><pre>SimpleImputer()</pre></div></div></div><div class=\"sk-item\"><div class=\"sk-estimator sk-toggleable\"><input class=\"sk-toggleable__control sk-hidden--visually\" id=\"sk-estimator-id-40\" type=\"checkbox\" ><label for=\"sk-estimator-id-40\" class=\"sk-toggleable__label sk-toggleable__label-arrow\">StandardScaler</label><div class=\"sk-toggleable__content\"><pre>StandardScaler()</pre></div></div></div></div></div></div></div></div><div class=\"sk-parallel-item\"><div class=\"sk-item\"><div class=\"sk-label-container\"><div class=\"sk-label sk-toggleable\"><input class=\"sk-toggleable__control sk-hidden--visually\" id=\"sk-estimator-id-41\" type=\"checkbox\" ><label for=\"sk-estimator-id-41\" class=\"sk-toggleable__label sk-toggleable__label-arrow\">ordinal</label><div class=\"sk-toggleable__content\"><pre>[&#x27;Item_Fat_Content&#x27;, &#x27;Outlet_Size&#x27;, &#x27;Outlet_Location_Type&#x27;]</pre></div></div></div><div class=\"sk-serial\"><div class=\"sk-item\"><div class=\"sk-serial\"><div class=\"sk-item\"><div class=\"sk-estimator sk-toggleable\"><input class=\"sk-toggleable__control sk-hidden--visually\" id=\"sk-estimator-id-42\" type=\"checkbox\" ><label for=\"sk-estimator-id-42\" class=\"sk-toggleable__label sk-toggleable__label-arrow\">SimpleImputer</label><div class=\"sk-toggleable__content\"><pre>SimpleImputer(fill_value=&#x27;NA&#x27;, strategy=&#x27;constant&#x27;)</pre></div></div></div><div class=\"sk-item\"><div class=\"sk-estimator sk-toggleable\"><input class=\"sk-toggleable__control sk-hidden--visually\" id=\"sk-estimator-id-43\" type=\"checkbox\" ><label for=\"sk-estimator-id-43\" class=\"sk-toggleable__label sk-toggleable__label-arrow\">OrdinalEncoder</label><div class=\"sk-toggleable__content\"><pre>OrdinalEncoder(categories=[[&#x27;Low Fat&#x27;, &#x27;Regular&#x27;],\n",
              "                           [&#x27;NA&#x27;, &#x27;Small&#x27;, &#x27;Medium&#x27;, &#x27;High&#x27;],\n",
              "                           [&#x27;Tier 1&#x27;, &#x27;Tier 2&#x27;, &#x27;Tier 3&#x27;]])</pre></div></div></div><div class=\"sk-item\"><div class=\"sk-estimator sk-toggleable\"><input class=\"sk-toggleable__control sk-hidden--visually\" id=\"sk-estimator-id-44\" type=\"checkbox\" ><label for=\"sk-estimator-id-44\" class=\"sk-toggleable__label sk-toggleable__label-arrow\">StandardScaler</label><div class=\"sk-toggleable__content\"><pre>StandardScaler()</pre></div></div></div></div></div></div></div></div><div class=\"sk-parallel-item\"><div class=\"sk-item\"><div class=\"sk-label-container\"><div class=\"sk-label sk-toggleable\"><input class=\"sk-toggleable__control sk-hidden--visually\" id=\"sk-estimator-id-45\" type=\"checkbox\" ><label for=\"sk-estimator-id-45\" class=\"sk-toggleable__label sk-toggleable__label-arrow\">categorical</label><div class=\"sk-toggleable__content\"><pre>Index([&#x27;Item_Type&#x27;, &#x27;Outlet_Identifier&#x27;, &#x27;Outlet_Type&#x27;], dtype=&#x27;object&#x27;)</pre></div></div></div><div class=\"sk-serial\"><div class=\"sk-item\"><div class=\"sk-serial\"><div class=\"sk-item\"><div class=\"sk-estimator sk-toggleable\"><input class=\"sk-toggleable__control sk-hidden--visually\" id=\"sk-estimator-id-46\" type=\"checkbox\" ><label for=\"sk-estimator-id-46\" class=\"sk-toggleable__label sk-toggleable__label-arrow\">SimpleImputer</label><div class=\"sk-toggleable__content\"><pre>SimpleImputer(fill_value=&#x27;NA&#x27;, strategy=&#x27;constant&#x27;)</pre></div></div></div><div class=\"sk-item\"><div class=\"sk-estimator sk-toggleable\"><input class=\"sk-toggleable__control sk-hidden--visually\" id=\"sk-estimator-id-47\" type=\"checkbox\" ><label for=\"sk-estimator-id-47\" class=\"sk-toggleable__label sk-toggleable__label-arrow\">OneHotEncoder</label><div class=\"sk-toggleable__content\"><pre>OneHotEncoder(handle_unknown=&#x27;ignore&#x27;, sparse_output=False)</pre></div></div></div></div></div></div></div></div></div></div><div class=\"sk-item\"><div class=\"sk-estimator sk-toggleable\"><input class=\"sk-toggleable__control sk-hidden--visually\" id=\"sk-estimator-id-48\" type=\"checkbox\" ><label for=\"sk-estimator-id-48\" class=\"sk-toggleable__label sk-toggleable__label-arrow\">LinearRegression</label><div class=\"sk-toggleable__content\"><pre>LinearRegression()</pre></div></div></div></div></div></div></div>"
            ]
          },
          "metadata": {},
          "execution_count": 29
        }
      ]
    },
    {
      "cell_type": "markdown",
      "source": [
        "###Use the custom evaluation function to get the metrics for your model (on training and test data)."
      ],
      "metadata": {
        "id": "4_Cl8MRVMmOJ"
      }
    },
    {
      "cell_type": "code",
      "source": [
        "# Obtain Model Evulation using custom function\n",
        "evaluate_regression(linreg_pipe, X_train, y_train, X_test, y_test)"
      ],
      "metadata": {
        "colab": {
          "base_uri": "https://localhost:8080/"
        },
        "id": "8SPQ70HEMN6I",
        "outputId": "2cf86a2f-0763-453e-8791-96382ef59532"
      },
      "execution_count": null,
      "outputs": [
        {
          "output_type": "stream",
          "name": "stdout",
          "text": [
            "------------------------------------------------------------\n",
            "Regression Metrics: Training Data\n",
            "------------------------------------------------------------\n",
            "- MAE = 847.129\n",
            "- MSE = 1,297,558.136\n",
            "- RMSE = 1,139.104\n",
            "- R^2 = 0.562\n",
            "\n",
            "------------------------------------------------------------\n",
            "Regression Metrics: Test Data\n",
            "------------------------------------------------------------\n",
            "- MAE = 804.120\n",
            "- MSE = 1,194,349.715\n",
            "- RMSE = 1,092.863\n",
            "- R^2 = 0.567\n"
          ]
        }
      ]
    },
    {
      "cell_type": "markdown",
      "source": [
        "###Compare the training vs. test R-squared values and answer the question: to what extent is this model overfit/underfit?"
      ],
      "metadata": {
        "id": "Fn_YSnSpMwYh"
      }
    },
    {
      "cell_type": "markdown",
      "source": [
        "The training R^2 value is 0.562, while the testing R^2 value is 0.567.\n",
        "\n",
        "Since the testing R^2 value is slightly higher than the training R^2 value, it suggests that the model is not overfitting the training data. Instead, it indicates that the model is generalizing well to new, unseen data."
      ],
      "metadata": {
        "id": "_HUkaBGlPWMq"
      }
    },
    {
      "cell_type": "markdown",
      "source": [
        "##2. Your second task is to build a Random Forest model to predict sales."
      ],
      "metadata": {
        "id": "2aq2TcayPvu-"
      }
    },
    {
      "cell_type": "markdown",
      "source": [
        "###Build a default Random Forest model."
      ],
      "metadata": {
        "id": "7HtV5fUfP1Pe"
      }
    },
    {
      "cell_type": "code",
      "source": [
        "# Instantiate default random forest model\n",
        "rf = RandomForestRegressor(random_state = 42)\n",
        "# Model Pipeline\n",
        "rf_pipe = make_pipeline(preprocessor, rf)\n",
        "# Fit the model pipeline on the training data only\n",
        "rf_pipe.fit(X_train, y_train)"
      ],
      "metadata": {
        "colab": {
          "base_uri": "https://localhost:8080/",
          "height": 260
        },
        "id": "nG_LsJY4P_re",
        "outputId": "1111f4d6-0bf6-45a3-8520-ac64ff511540"
      },
      "execution_count": null,
      "outputs": [
        {
          "output_type": "execute_result",
          "data": {
            "text/plain": [
              "Pipeline(steps=[('columntransformer',\n",
              "                 ColumnTransformer(transformers=[('numeric',\n",
              "                                                  Pipeline(steps=[('simpleimputer',\n",
              "                                                                   SimpleImputer()),\n",
              "                                                                  ('standardscaler',\n",
              "                                                                   StandardScaler())]),\n",
              "                                                  Index(['Item_Weight', 'Item_Visibility', 'Item_MRP',\n",
              "       'Outlet_Establishment_Year'],\n",
              "      dtype='object')),\n",
              "                                                 ('ordinal',\n",
              "                                                  Pipeline(steps=[('simpleimputer',\n",
              "                                                                   SimpleImputer(fill_value='NA',\n",
              "                                                                                 strategy='co...\n",
              "                                                 ('categorical',\n",
              "                                                  Pipeline(steps=[('simpleimputer',\n",
              "                                                                   SimpleImputer(fill_value='NA',\n",
              "                                                                                 strategy='constant')),\n",
              "                                                                  ('onehotencoder',\n",
              "                                                                   OneHotEncoder(handle_unknown='ignore',\n",
              "                                                                                 sparse_output=False))]),\n",
              "                                                  Index(['Item_Type', 'Outlet_Identifier', 'Outlet_Type'], dtype='object'))],\n",
              "                                   verbose_feature_names_out=False)),\n",
              "                ('randomforestregressor',\n",
              "                 RandomForestRegressor(random_state=42))])"
            ],
            "text/html": [
              "<style>#sk-container-id-5 {color: black;background-color: white;}#sk-container-id-5 pre{padding: 0;}#sk-container-id-5 div.sk-toggleable {background-color: white;}#sk-container-id-5 label.sk-toggleable__label {cursor: pointer;display: block;width: 100%;margin-bottom: 0;padding: 0.3em;box-sizing: border-box;text-align: center;}#sk-container-id-5 label.sk-toggleable__label-arrow:before {content: \"▸\";float: left;margin-right: 0.25em;color: #696969;}#sk-container-id-5 label.sk-toggleable__label-arrow:hover:before {color: black;}#sk-container-id-5 div.sk-estimator:hover label.sk-toggleable__label-arrow:before {color: black;}#sk-container-id-5 div.sk-toggleable__content {max-height: 0;max-width: 0;overflow: hidden;text-align: left;background-color: #f0f8ff;}#sk-container-id-5 div.sk-toggleable__content pre {margin: 0.2em;color: black;border-radius: 0.25em;background-color: #f0f8ff;}#sk-container-id-5 input.sk-toggleable__control:checked~div.sk-toggleable__content {max-height: 200px;max-width: 100%;overflow: auto;}#sk-container-id-5 input.sk-toggleable__control:checked~label.sk-toggleable__label-arrow:before {content: \"▾\";}#sk-container-id-5 div.sk-estimator input.sk-toggleable__control:checked~label.sk-toggleable__label {background-color: #d4ebff;}#sk-container-id-5 div.sk-label input.sk-toggleable__control:checked~label.sk-toggleable__label {background-color: #d4ebff;}#sk-container-id-5 input.sk-hidden--visually {border: 0;clip: rect(1px 1px 1px 1px);clip: rect(1px, 1px, 1px, 1px);height: 1px;margin: -1px;overflow: hidden;padding: 0;position: absolute;width: 1px;}#sk-container-id-5 div.sk-estimator {font-family: monospace;background-color: #f0f8ff;border: 1px dotted black;border-radius: 0.25em;box-sizing: border-box;margin-bottom: 0.5em;}#sk-container-id-5 div.sk-estimator:hover {background-color: #d4ebff;}#sk-container-id-5 div.sk-parallel-item::after {content: \"\";width: 100%;border-bottom: 1px solid gray;flex-grow: 1;}#sk-container-id-5 div.sk-label:hover label.sk-toggleable__label {background-color: #d4ebff;}#sk-container-id-5 div.sk-serial::before {content: \"\";position: absolute;border-left: 1px solid gray;box-sizing: border-box;top: 0;bottom: 0;left: 50%;z-index: 0;}#sk-container-id-5 div.sk-serial {display: flex;flex-direction: column;align-items: center;background-color: white;padding-right: 0.2em;padding-left: 0.2em;position: relative;}#sk-container-id-5 div.sk-item {position: relative;z-index: 1;}#sk-container-id-5 div.sk-parallel {display: flex;align-items: stretch;justify-content: center;background-color: white;position: relative;}#sk-container-id-5 div.sk-item::before, #sk-container-id-5 div.sk-parallel-item::before {content: \"\";position: absolute;border-left: 1px solid gray;box-sizing: border-box;top: 0;bottom: 0;left: 50%;z-index: -1;}#sk-container-id-5 div.sk-parallel-item {display: flex;flex-direction: column;z-index: 1;position: relative;background-color: white;}#sk-container-id-5 div.sk-parallel-item:first-child::after {align-self: flex-end;width: 50%;}#sk-container-id-5 div.sk-parallel-item:last-child::after {align-self: flex-start;width: 50%;}#sk-container-id-5 div.sk-parallel-item:only-child::after {width: 0;}#sk-container-id-5 div.sk-dashed-wrapped {border: 1px dashed gray;margin: 0 0.4em 0.5em 0.4em;box-sizing: border-box;padding-bottom: 0.4em;background-color: white;}#sk-container-id-5 div.sk-label label {font-family: monospace;font-weight: bold;display: inline-block;line-height: 1.2em;}#sk-container-id-5 div.sk-label-container {text-align: center;}#sk-container-id-5 div.sk-container {/* jupyter's `normalize.less` sets `[hidden] { display: none; }` but bootstrap.min.css set `[hidden] { display: none !important; }` so we also need the `!important` here to be able to override the default hidden behavior on the sphinx rendered scikit-learn.org. See: https://github.com/scikit-learn/scikit-learn/issues/21755 */display: inline-block !important;position: relative;}#sk-container-id-5 div.sk-text-repr-fallback {display: none;}</style><div id=\"sk-container-id-5\" class=\"sk-top-container\"><div class=\"sk-text-repr-fallback\"><pre>Pipeline(steps=[(&#x27;columntransformer&#x27;,\n",
              "                 ColumnTransformer(transformers=[(&#x27;numeric&#x27;,\n",
              "                                                  Pipeline(steps=[(&#x27;simpleimputer&#x27;,\n",
              "                                                                   SimpleImputer()),\n",
              "                                                                  (&#x27;standardscaler&#x27;,\n",
              "                                                                   StandardScaler())]),\n",
              "                                                  Index([&#x27;Item_Weight&#x27;, &#x27;Item_Visibility&#x27;, &#x27;Item_MRP&#x27;,\n",
              "       &#x27;Outlet_Establishment_Year&#x27;],\n",
              "      dtype=&#x27;object&#x27;)),\n",
              "                                                 (&#x27;ordinal&#x27;,\n",
              "                                                  Pipeline(steps=[(&#x27;simpleimputer&#x27;,\n",
              "                                                                   SimpleImputer(fill_value=&#x27;NA&#x27;,\n",
              "                                                                                 strategy=&#x27;co...\n",
              "                                                 (&#x27;categorical&#x27;,\n",
              "                                                  Pipeline(steps=[(&#x27;simpleimputer&#x27;,\n",
              "                                                                   SimpleImputer(fill_value=&#x27;NA&#x27;,\n",
              "                                                                                 strategy=&#x27;constant&#x27;)),\n",
              "                                                                  (&#x27;onehotencoder&#x27;,\n",
              "                                                                   OneHotEncoder(handle_unknown=&#x27;ignore&#x27;,\n",
              "                                                                                 sparse_output=False))]),\n",
              "                                                  Index([&#x27;Item_Type&#x27;, &#x27;Outlet_Identifier&#x27;, &#x27;Outlet_Type&#x27;], dtype=&#x27;object&#x27;))],\n",
              "                                   verbose_feature_names_out=False)),\n",
              "                (&#x27;randomforestregressor&#x27;,\n",
              "                 RandomForestRegressor(random_state=42))])</pre><b>In a Jupyter environment, please rerun this cell to show the HTML representation or trust the notebook. <br />On GitHub, the HTML representation is unable to render, please try loading this page with nbviewer.org.</b></div><div class=\"sk-container\" hidden><div class=\"sk-item sk-dashed-wrapped\"><div class=\"sk-label-container\"><div class=\"sk-label sk-toggleable\"><input class=\"sk-toggleable__control sk-hidden--visually\" id=\"sk-estimator-id-49\" type=\"checkbox\" ><label for=\"sk-estimator-id-49\" class=\"sk-toggleable__label sk-toggleable__label-arrow\">Pipeline</label><div class=\"sk-toggleable__content\"><pre>Pipeline(steps=[(&#x27;columntransformer&#x27;,\n",
              "                 ColumnTransformer(transformers=[(&#x27;numeric&#x27;,\n",
              "                                                  Pipeline(steps=[(&#x27;simpleimputer&#x27;,\n",
              "                                                                   SimpleImputer()),\n",
              "                                                                  (&#x27;standardscaler&#x27;,\n",
              "                                                                   StandardScaler())]),\n",
              "                                                  Index([&#x27;Item_Weight&#x27;, &#x27;Item_Visibility&#x27;, &#x27;Item_MRP&#x27;,\n",
              "       &#x27;Outlet_Establishment_Year&#x27;],\n",
              "      dtype=&#x27;object&#x27;)),\n",
              "                                                 (&#x27;ordinal&#x27;,\n",
              "                                                  Pipeline(steps=[(&#x27;simpleimputer&#x27;,\n",
              "                                                                   SimpleImputer(fill_value=&#x27;NA&#x27;,\n",
              "                                                                                 strategy=&#x27;co...\n",
              "                                                 (&#x27;categorical&#x27;,\n",
              "                                                  Pipeline(steps=[(&#x27;simpleimputer&#x27;,\n",
              "                                                                   SimpleImputer(fill_value=&#x27;NA&#x27;,\n",
              "                                                                                 strategy=&#x27;constant&#x27;)),\n",
              "                                                                  (&#x27;onehotencoder&#x27;,\n",
              "                                                                   OneHotEncoder(handle_unknown=&#x27;ignore&#x27;,\n",
              "                                                                                 sparse_output=False))]),\n",
              "                                                  Index([&#x27;Item_Type&#x27;, &#x27;Outlet_Identifier&#x27;, &#x27;Outlet_Type&#x27;], dtype=&#x27;object&#x27;))],\n",
              "                                   verbose_feature_names_out=False)),\n",
              "                (&#x27;randomforestregressor&#x27;,\n",
              "                 RandomForestRegressor(random_state=42))])</pre></div></div></div><div class=\"sk-serial\"><div class=\"sk-item sk-dashed-wrapped\"><div class=\"sk-label-container\"><div class=\"sk-label sk-toggleable\"><input class=\"sk-toggleable__control sk-hidden--visually\" id=\"sk-estimator-id-50\" type=\"checkbox\" ><label for=\"sk-estimator-id-50\" class=\"sk-toggleable__label sk-toggleable__label-arrow\">columntransformer: ColumnTransformer</label><div class=\"sk-toggleable__content\"><pre>ColumnTransformer(transformers=[(&#x27;numeric&#x27;,\n",
              "                                 Pipeline(steps=[(&#x27;simpleimputer&#x27;,\n",
              "                                                  SimpleImputer()),\n",
              "                                                 (&#x27;standardscaler&#x27;,\n",
              "                                                  StandardScaler())]),\n",
              "                                 Index([&#x27;Item_Weight&#x27;, &#x27;Item_Visibility&#x27;, &#x27;Item_MRP&#x27;,\n",
              "       &#x27;Outlet_Establishment_Year&#x27;],\n",
              "      dtype=&#x27;object&#x27;)),\n",
              "                                (&#x27;ordinal&#x27;,\n",
              "                                 Pipeline(steps=[(&#x27;simpleimputer&#x27;,\n",
              "                                                  SimpleImputer(fill_value=&#x27;NA&#x27;,\n",
              "                                                                strategy=&#x27;constant&#x27;)),\n",
              "                                                 (&#x27;ordinalencoder&#x27;,\n",
              "                                                  OrdinalEn...\n",
              "                                                  StandardScaler())]),\n",
              "                                 [&#x27;Item_Fat_Content&#x27;, &#x27;Outlet_Size&#x27;,\n",
              "                                  &#x27;Outlet_Location_Type&#x27;]),\n",
              "                                (&#x27;categorical&#x27;,\n",
              "                                 Pipeline(steps=[(&#x27;simpleimputer&#x27;,\n",
              "                                                  SimpleImputer(fill_value=&#x27;NA&#x27;,\n",
              "                                                                strategy=&#x27;constant&#x27;)),\n",
              "                                                 (&#x27;onehotencoder&#x27;,\n",
              "                                                  OneHotEncoder(handle_unknown=&#x27;ignore&#x27;,\n",
              "                                                                sparse_output=False))]),\n",
              "                                 Index([&#x27;Item_Type&#x27;, &#x27;Outlet_Identifier&#x27;, &#x27;Outlet_Type&#x27;], dtype=&#x27;object&#x27;))],\n",
              "                  verbose_feature_names_out=False)</pre></div></div></div><div class=\"sk-parallel\"><div class=\"sk-parallel-item\"><div class=\"sk-item\"><div class=\"sk-label-container\"><div class=\"sk-label sk-toggleable\"><input class=\"sk-toggleable__control sk-hidden--visually\" id=\"sk-estimator-id-51\" type=\"checkbox\" ><label for=\"sk-estimator-id-51\" class=\"sk-toggleable__label sk-toggleable__label-arrow\">numeric</label><div class=\"sk-toggleable__content\"><pre>Index([&#x27;Item_Weight&#x27;, &#x27;Item_Visibility&#x27;, &#x27;Item_MRP&#x27;,\n",
              "       &#x27;Outlet_Establishment_Year&#x27;],\n",
              "      dtype=&#x27;object&#x27;)</pre></div></div></div><div class=\"sk-serial\"><div class=\"sk-item\"><div class=\"sk-serial\"><div class=\"sk-item\"><div class=\"sk-estimator sk-toggleable\"><input class=\"sk-toggleable__control sk-hidden--visually\" id=\"sk-estimator-id-52\" type=\"checkbox\" ><label for=\"sk-estimator-id-52\" class=\"sk-toggleable__label sk-toggleable__label-arrow\">SimpleImputer</label><div class=\"sk-toggleable__content\"><pre>SimpleImputer()</pre></div></div></div><div class=\"sk-item\"><div class=\"sk-estimator sk-toggleable\"><input class=\"sk-toggleable__control sk-hidden--visually\" id=\"sk-estimator-id-53\" type=\"checkbox\" ><label for=\"sk-estimator-id-53\" class=\"sk-toggleable__label sk-toggleable__label-arrow\">StandardScaler</label><div class=\"sk-toggleable__content\"><pre>StandardScaler()</pre></div></div></div></div></div></div></div></div><div class=\"sk-parallel-item\"><div class=\"sk-item\"><div class=\"sk-label-container\"><div class=\"sk-label sk-toggleable\"><input class=\"sk-toggleable__control sk-hidden--visually\" id=\"sk-estimator-id-54\" type=\"checkbox\" ><label for=\"sk-estimator-id-54\" class=\"sk-toggleable__label sk-toggleable__label-arrow\">ordinal</label><div class=\"sk-toggleable__content\"><pre>[&#x27;Item_Fat_Content&#x27;, &#x27;Outlet_Size&#x27;, &#x27;Outlet_Location_Type&#x27;]</pre></div></div></div><div class=\"sk-serial\"><div class=\"sk-item\"><div class=\"sk-serial\"><div class=\"sk-item\"><div class=\"sk-estimator sk-toggleable\"><input class=\"sk-toggleable__control sk-hidden--visually\" id=\"sk-estimator-id-55\" type=\"checkbox\" ><label for=\"sk-estimator-id-55\" class=\"sk-toggleable__label sk-toggleable__label-arrow\">SimpleImputer</label><div class=\"sk-toggleable__content\"><pre>SimpleImputer(fill_value=&#x27;NA&#x27;, strategy=&#x27;constant&#x27;)</pre></div></div></div><div class=\"sk-item\"><div class=\"sk-estimator sk-toggleable\"><input class=\"sk-toggleable__control sk-hidden--visually\" id=\"sk-estimator-id-56\" type=\"checkbox\" ><label for=\"sk-estimator-id-56\" class=\"sk-toggleable__label sk-toggleable__label-arrow\">OrdinalEncoder</label><div class=\"sk-toggleable__content\"><pre>OrdinalEncoder(categories=[[&#x27;Low Fat&#x27;, &#x27;Regular&#x27;],\n",
              "                           [&#x27;NA&#x27;, &#x27;Small&#x27;, &#x27;Medium&#x27;, &#x27;High&#x27;],\n",
              "                           [&#x27;Tier 1&#x27;, &#x27;Tier 2&#x27;, &#x27;Tier 3&#x27;]])</pre></div></div></div><div class=\"sk-item\"><div class=\"sk-estimator sk-toggleable\"><input class=\"sk-toggleable__control sk-hidden--visually\" id=\"sk-estimator-id-57\" type=\"checkbox\" ><label for=\"sk-estimator-id-57\" class=\"sk-toggleable__label sk-toggleable__label-arrow\">StandardScaler</label><div class=\"sk-toggleable__content\"><pre>StandardScaler()</pre></div></div></div></div></div></div></div></div><div class=\"sk-parallel-item\"><div class=\"sk-item\"><div class=\"sk-label-container\"><div class=\"sk-label sk-toggleable\"><input class=\"sk-toggleable__control sk-hidden--visually\" id=\"sk-estimator-id-58\" type=\"checkbox\" ><label for=\"sk-estimator-id-58\" class=\"sk-toggleable__label sk-toggleable__label-arrow\">categorical</label><div class=\"sk-toggleable__content\"><pre>Index([&#x27;Item_Type&#x27;, &#x27;Outlet_Identifier&#x27;, &#x27;Outlet_Type&#x27;], dtype=&#x27;object&#x27;)</pre></div></div></div><div class=\"sk-serial\"><div class=\"sk-item\"><div class=\"sk-serial\"><div class=\"sk-item\"><div class=\"sk-estimator sk-toggleable\"><input class=\"sk-toggleable__control sk-hidden--visually\" id=\"sk-estimator-id-59\" type=\"checkbox\" ><label for=\"sk-estimator-id-59\" class=\"sk-toggleable__label sk-toggleable__label-arrow\">SimpleImputer</label><div class=\"sk-toggleable__content\"><pre>SimpleImputer(fill_value=&#x27;NA&#x27;, strategy=&#x27;constant&#x27;)</pre></div></div></div><div class=\"sk-item\"><div class=\"sk-estimator sk-toggleable\"><input class=\"sk-toggleable__control sk-hidden--visually\" id=\"sk-estimator-id-60\" type=\"checkbox\" ><label for=\"sk-estimator-id-60\" class=\"sk-toggleable__label sk-toggleable__label-arrow\">OneHotEncoder</label><div class=\"sk-toggleable__content\"><pre>OneHotEncoder(handle_unknown=&#x27;ignore&#x27;, sparse_output=False)</pre></div></div></div></div></div></div></div></div></div></div><div class=\"sk-item\"><div class=\"sk-estimator sk-toggleable\"><input class=\"sk-toggleable__control sk-hidden--visually\" id=\"sk-estimator-id-61\" type=\"checkbox\" ><label for=\"sk-estimator-id-61\" class=\"sk-toggleable__label sk-toggleable__label-arrow\">RandomForestRegressor</label><div class=\"sk-toggleable__content\"><pre>RandomForestRegressor(random_state=42)</pre></div></div></div></div></div></div></div>"
            ]
          },
          "metadata": {},
          "execution_count": 31
        }
      ]
    },
    {
      "cell_type": "markdown",
      "source": [
        "###Use the custom evaluation function to get the metrics for your model (on training and test data)."
      ],
      "metadata": {
        "id": "WJtTVMafQIEb"
      }
    },
    {
      "cell_type": "code",
      "source": [
        "# Use custom function to evaluate default model\n",
        "evaluate_regression(rf_pipe, X_train, y_train, X_test, y_test)"
      ],
      "metadata": {
        "colab": {
          "base_uri": "https://localhost:8080/"
        },
        "id": "RRdLhfO7QF41",
        "outputId": "c4ef01bc-3004-45fe-b572-9d1bbedf891f"
      },
      "execution_count": null,
      "outputs": [
        {
          "output_type": "stream",
          "name": "stdout",
          "text": [
            "------------------------------------------------------------\n",
            "Regression Metrics: Training Data\n",
            "------------------------------------------------------------\n",
            "- MAE = 296.392\n",
            "- MSE = 182,583.136\n",
            "- RMSE = 427.297\n",
            "- R^2 = 0.938\n",
            "\n",
            "------------------------------------------------------------\n",
            "Regression Metrics: Test Data\n",
            "------------------------------------------------------------\n",
            "- MAE = 767.390\n",
            "- MSE = 1,219,078.737\n",
            "- RMSE = 1,104.119\n",
            "- R^2 = 0.558\n"
          ]
        }
      ]
    },
    {
      "cell_type": "markdown",
      "source": [
        "###Compare the training vs. test R-squared values and answer the question: to what extent is this model overfit/underfit?"
      ],
      "metadata": {
        "id": "gHGcvPDPQecA"
      }
    },
    {
      "cell_type": "markdown",
      "source": [
        "Such a large discrepancy between the training and testing R^2 values suggests that the model is overfitting the training data.\n",
        "\n",
        "An R^2 value of 0.938 for the training set indicates that the model explains about 93.8% of the variance in the training data, which is remarkably high. However, the R^2 value of 0.558 for the testing set indicates that the model only explains about 55.8% of the variance in the testing data. This drop in performance on unseen data is indicative of overfitting."
      ],
      "metadata": {
        "id": "SfgtcnrHQz5B"
      }
    },
    {
      "cell_type": "markdown",
      "source": [
        "###Compare this model's performance to the linear regression model: which model has the best test scores?"
      ],
      "metadata": {
        "id": "nzsJ4aXaRDxm"
      }
    },
    {
      "cell_type": "markdown",
      "source": [
        "- The linear regression model demonstrated balanced performance with minimal overfitting, the random forest model exhibits clear signs of overfitting due to the considerable disparity between training and testing R^2 values.\n",
        "\n",
        "- Based on the testing R^2 scores alone, the linear regression model has the better test score than the random forest model.\n",
        "\n",
        "However, when evaluating model performance, it's crucial to consider both training and testing performance."
      ],
      "metadata": {
        "id": "iPRzfTYuRDt_"
      }
    },
    {
      "cell_type": "markdown",
      "source": [
        "##3. Use GridSearchCV to tune at least two hyperparameters for a Random Forest model."
      ],
      "metadata": {
        "id": "2lpcEnP3TA-h"
      }
    },
    {
      "cell_type": "markdown",
      "source": [
        "###After determining the best parameters from your GridSearch, fit and evaluate a final best model on the entire training set (no folds)."
      ],
      "metadata": {
        "id": "UfkvFob-TFIs"
      }
    },
    {
      "cell_type": "code",
      "source": [
        "# Define param grid with options to try\n",
        "params = {'randomforestregressor__max_depth': [None,10,15,20],\n",
        "          'randomforestregressor__n_estimators':[10,100,150,200],\n",
        "          'randomforestregressor__min_samples_leaf':[2,3,4],\n",
        "          'randomforestregressor__max_features':['sqrt','log2',None],\n",
        "          'randomforestregressor__oob_score':[True,False],\n",
        "          }\n",
        "\n",
        "# Instantiate the gridsearch\n",
        "gridsearch = GridSearchCV(rf_pipe, params, n_jobs=-1, cv = 3, verbose=1)\n",
        "# Fit the gridsearch on training data\n",
        "gridsearch.fit(X_train, y_train)\n",
        "# Define and refit best model\n",
        "best_rf = gridsearch.best_estimator_\n",
        "#evaluate\n",
        "evaluate_regression(best_rf, X_train, y_train, X_test, y_test)"
      ],
      "metadata": {
        "colab": {
          "base_uri": "https://localhost:8080/"
        },
        "id": "TvGAYBHPTTIp",
        "outputId": "02b08cb2-c55c-4975-f3c9-24cacdc323c8"
      },
      "execution_count": null,
      "outputs": [
        {
          "output_type": "stream",
          "name": "stdout",
          "text": [
            "Fitting 3 folds for each of 288 candidates, totalling 864 fits\n",
            "------------------------------------------------------------\n",
            "Regression Metrics: Training Data\n",
            "------------------------------------------------------------\n",
            "- MAE = 653.645\n",
            "- MSE = 869,292.769\n",
            "- RMSE = 932.359\n",
            "- R^2 = 0.706\n",
            "\n",
            "------------------------------------------------------------\n",
            "Regression Metrics: Test Data\n",
            "------------------------------------------------------------\n",
            "- MAE = 734.654\n",
            "- MSE = 1,119,440.614\n",
            "- RMSE = 1,058.036\n",
            "- R^2 = 0.594\n"
          ]
        }
      ]
    },
    {
      "cell_type": "markdown",
      "source": [
        "###Compare your tuned model to your default Random Forest: did the performance improve?"
      ],
      "metadata": {
        "id": "7iUo7xo_UIpK"
      }
    },
    {
      "cell_type": "markdown",
      "source": [
        "- Training Performance:\n",
        "\n",
        " - The default Random Forest model had a higher training R^2 value (0.938) compared to the tuned model (0.706). This suggests that the default model was better at capturing the variability in the training data.\n",
        "\n",
        "- Testing Performance:\n",
        "\n",
        " - However, when it comes to testing performance, the tuned Random Forest model outperformed the default model. The tuned model achieved a higher testing R^2 value (0.594) compared to the default model (0.558). This indicates that the tuned model generalizes better to new, unseen data.\n",
        "\n",
        "The performance of the Random Forest model improved after tuning, especially in terms of testing performance. While the training performance decreased slightly, the improvement in testing performance suggests that the tuned model is better suited for making predictions on new data."
      ],
      "metadata": {
        "id": "9O53o1efX4uA"
      }
    },
    {
      "cell_type": "markdown",
      "source": [
        "#CRISP-DM Phase 5 - Evaluation"
      ],
      "metadata": {
        "id": "xS1CHN95iP3o"
      }
    },
    {
      "cell_type": "markdown",
      "source": [
        "##4. You now have tried several different models on your data set. You need to determine which model to implement."
      ],
      "metadata": {
        "id": "1iGFX4dxYkaJ"
      }
    },
    {
      "cell_type": "markdown",
      "source": [
        "- Overall, which model do you recommend?\n",
        "- Justify your recommendation.\n",
        "- Interpret your model's performance based on R-squared in a way that your non-technical stakeholder can understand.\n",
        "\n"
      ],
      "metadata": {
        "id": "EYNk43z1YmJ-"
      }
    },
    {
      "cell_type": "markdown",
      "source": [
        "![Screenshot 2024-03-19 130954.png](data:image/png;base64,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)"
      ],
      "metadata": {
        "id": "CSWAnR4miE-O"
      }
    },
    {
      "cell_type": "markdown",
      "source": [
        "\n",
        "Overall, I recommend the tuned Random Forest model since it achieves the highest R^2 value and maintains a relatively small difference between training and testing data (0.112). This difference is significantly smaller compared to the same model before tuning (0.38). Although the linear regression model shows less variation between training and testing data, it has a lower R^2 value.\n",
        "\n",
        "For stakeholders' understanding, R^2 represents the proportion of the variance in the target variable (e.g., Item_Outlet_Sales) explained by the model. With an R^2 value of 0.594, the tuned Random Forest model explains approximately 59% of the variability in the predicted variable. Stakeholders can expect this model's predictions (tunned Random Forest model) to be closer to the true values compared to other models with lower\n",
        "R^2 values, capturing over 59% of the variability in prices."
      ],
      "metadata": {
        "id": "fcG6OCHed--5"
      }
    },
    {
      "cell_type": "markdown",
      "source": [
        "\n",
        "\n",
        "---\n",
        "\n"
      ],
      "metadata": {
        "id": "yHIYWcGziJjX"
      }
    },
    {
      "cell_type": "markdown",
      "source": [
        "- Select another regression metric (RMSE/MAE/MSE) to express the performance of your model to your stakeholder.\n",
        "- Include why you selected this metric to explain to your stakeholder.\n",
        "- Compare the training vs. test scores and answer the question: to what extent is this model overfit/underfit?"
      ],
      "metadata": {
        "id": "PnDrcBUNiYrT"
      }
    },
    {
      "cell_type": "markdown",
      "source": [
        "**I select RMSE:**"
      ],
      "metadata": {
        "id": "5p8lZWi5iddb"
      }
    },
    {
      "cell_type": "markdown",
      "source": [
        "\n",
        "\n",
        "---\n",
        "\n",
        "![Screenshot 2024-03-19 134238.png](data:image/png;base64,iVBORw0KGgoAAAANSUhEUgAABP4AAACZCAYAAAC/vvQxAAAAAXNSR0IArs4c6QAAAARnQU1BAACxjwv8YQUAAAAJcEhZcwAAFiUAABYlAUlSJPAAAABjaVRYdFNuaXBNZXRhZGF0YQAAAAAAeyJjbGlwUG9pbnRzIjpbeyJ4IjowLCJ5IjowfSx7IngiOjEyNzgsInkiOjB9LHsieCI6MTI3OCwieSI6MTUzfSx7IngiOjAsInkiOjE1M31dffLpWpIAAD8KSURBVHhe7d1hcxvHmej7h+cD5LUZKZYYkzLLy1TFJzy2BZadjRxnRcqMlcRL+1jaaJ1jAlWxb0iXTNV6S4moDet6i7QqhI/sKoI+8VEiuyyu712qZBE6dqzcWEUo9jKbvMC6FBEJbUcO83q/AG/3TA8wAAbAzGAAAuD/pxoRGAxmegbA0z09091di4uLW4cOHRIA7eXy5cvCbxdAVIgpAICgyDsAoDW543PXwsLClvUIAAAAAAAAQMewKv5e+Om/macA2sXHH7wqe+99yjwDgPoQUwAAQZF3AEBr0vF5a8u+z++/WP8DAAAAAAAA6ChU/AEAAAAAAAAdiIo/AAAAAAAAoANR8QcAAAAAAAB0ICr+AAAAAAAAgA5ExR8AAAAAAADQgaj4AwAAAAAAADoQFX8Aahp4+mnZ+PWiNV19ereZC/DdCGtgOJrjFtV6dhqOGxptO37j7mVfHW7w93rft+TVJXtb1rT0LRnYMq8hcuS1jUN+gEbbjvwgNGJ7w2x3HKfiD9jJXBnIxuy9Zma5/j1fNo9EevbsMo86zL575VXnWHhMV5eelucbfSLVhlryu6EKLVdLP78q32+L+i0Uv+fH8vw+81ojfPE286BOUa0nrHb93Wz3cQvK4ztdPDX4+9pq+I17cy37xS+aB42gj//PRuTB281z7fbPS795iOi1RTmM/KA5yA+KkR9Eh9jeUNsdx6n4A1DTjU9+Zx6JbHzymXnUaT4v1c6Tem7/ssRPnapdmNhhWvK7ccfnpcc8dPQ88HDlQt3Wbnn+yS+XvOc2ueMO8xBV8LtpCo/vdMdwn7Sp74mvOwv4jW+rgYf+a/5Ybvz8tPTcN66ml+WtLjOzVYX5rrWI9iiHkR80BflBMfKDyFSN7a0SP4njoVHxB6Cm7Msvm+A/LgdevmXmdrBPV2T0Xnt/9TR6uhCoqxYmdqCW/258+hfZsB7cJg89VOFOg5FHJG6ubm6o5RESv5vmKDnO9vRDeeGmeb2d7f28eRAAv/Gm69/j3HXyF3n33TYtE4T5rm2jtiuHkR80B/lBMfKDuviO7a0SP4njgVDxBwA1ZNMvy9T75km1wgRaz8f/Lu9+aj/s+btH5FGPK4OPfs3ceq8K0K/8yn6I+vG7QVPwG2+urd3St9c8BnwiP0BTkB+ER2zveFT8AaipUmeyA0//2Mx/2spc9XL526/1srOVO4S1lnV3HvvrH1vNPwY8rgIP6H5jltTrrnXnly9dfz6tur+O3fLorJNG9XzYLBPCjU+qXxUMsj9WPzhqfwrLlkxOR7oB9iXQ8RzWHfe6t+99LP0sV+m74Shfh5rU81ef9theHd+nyv4sl37lfHZfloMj5qFj6145+ID9cONX/yY37IcVBdkfiypI6c+tsB962donPIG+Ty2s2u8myO869Hcj9PGv83vr+uyuqt/zo+ZzK3st1Hfan0DfVZUue5nmxppHZ9W8n40UmlzdPiKXPrCX9d/xNb/xSsq/i+o7WmH9ftJjfdc/OJW/W0ZX4MR/ZtZdss+t8P1z8/NdK/yW9eAo1qyCfBqL9zVMbAr1ngi3b/FbDokQ+YFKG/lB+bJm++QHrm1UOY5B+P1dWd/bKrE9yGfje18CfM8cxPESPuK4GxV/AGqr2ZnsbfL9f1mUS6eK+8zoeUAHZDuI5VmZolk2n8Fot6nln5JLPyteXgfDSz97Sh68Xb1u5tnM8qXrd3lo5pTMPeCk/Tapp/uOwu3vIn/8o+v27ID7Y2U6Zn+CqLgvYY7nKd1xr3v7Ztm5Qr87fper9t3QmXj5OhT1/MG/U+v5l0qF3ADfJx+y7/67afoh8uDXivsWGnjmYXnQelS7yVrg/VGfzfP/Yn9uhf3Qy56SS39X4bgF/T61uEq/m/C/62CxJvDxVyL53ro+ux5VMJ1Tn9urHp+rle6K6wsv/D40P9ZEgd94uR6dhrLv4pfVd1GfZJkZWgPS0wrfv+YLk28FeE+U5bCQ5ZB6kR/o3yD5QYFZlvzA93EMIvzvKqQ69iXK87X6dHYcp+IPQARUUFdBfuPnr9p9jXz3VXnP3GpfesVt4JmECu724/zy97n7f1EnJqWFgE9/J6nTpwv9mNx7WlIV1l9gp6luOiNTmaeTZpHfyZUV81AJtD+6UPCkM6LT72Tqu6XL6nWclp6xf5VsUSfplfcl2PbvlUmn8OHuF+a7p2XqfadfFMXvctWoDCmfiavPz9lX/d3If3aqAPzSM15XQv1/n3z5/b/lm37IA4OFjFN9HqNfddL473Lp9/ZDTyH2R382+aunznFU3119DCsJ9ftoRTV+N5Y6ftd+vhthjn8k39v3XWkzr+i0PaiOhedran2TQb/T1USwD14aEWveOqHnrRRiimvZQP3f8Bv35nzfin5bt0n8qcL6g6Qn+/IPS9b1F0mZ45T/vFrh++chsu9aRWHyrTDvqcTnukKXQ+pAfmCnzbyi00Z+oNNAflBvXKvJ5++qVmz389mE35fK37NSxHHzMEAcd6PiD0AkdIA58PIHdkHx5gcyn7/VXuSLXzQZozvTVYHqlbNmeSW7crGQ4bgyaiszGntZXkjfKhRCu265buV3rd9DflQqlaE9lTYza1GZuXPruL71fS5fYNHB1TVyYeD92SV3OJnb+2vylul82b1steHdy/YlxPF067/TPLipM/UfyoETH5gZxfwul1eUIanCw0l1zJyOptV344WThUy7Uh8svr5PfhV9X1wZ553/TR4yn4du8pH/fpUKsz9Fn41+jzmJUmnRx7DQ15FLnZ/ntvP7u1Hq+V0HjzX+j3+931td0aJ/H/m0/byQtmqvBfpOu4+zqzmHdedBFPugbFesCY3feDl9QjRl1q/S5N6H/PqjTk+Y4+gh6u9fs4TJt6LM6/ytq75yiG/kB+QH5Afbmh/Ue/4USAT7UvY92yZhYnKY91Tib13h4jgVfwAaIvvHQqAqBB9XoFKZ8Zy7sFLUt0Qx3UfF87M/LuozolrTjDxdsHKuAKnMri66sOrO/C1B9+cz+YM783P6eXGPMFZpeHfPfQm4/a4P5IpT+FCFxbmfLapj+rQ8P1ySKfldriJ3uv4i66VXVX//Z/mjeaivbvU5hcAqvL9P/hU1/XjSLhQ/+pTTT0itJh9h9qf6e7z7Ogr6fWoDnr8bW+jfdYnasSbM8S9/j5/vbenv1522aq9Fp/59aGqsiRC/8WJlJ7Y19yGK9IQ5jiWi+P61iDD5Vr15nZv3uuooh9SL/MA8Ij8gP9ACHscQovpd1VbnvkR5vhaxMDE5zHsq8V5XuDhOxR+A5rnz8/JF89Avp4+K+AP+bwWvm/sWfecqrNU3Ukn/CkH3R2VmL7zmuuXddJyr+3Kw1e5zpEiI4/nW1GlJuZod6D6f4qdOyYYuhLn6ffK7nCd3uj79s0fnya4Mq1ncTT9u/68yemehg+eaTT7C7E/N93gI8Xm2FL+/G6Xhv+t6j3+rfG+9uJq25CenWV6j9iHEd7OuGBIGv/EaauxDFMIcRz+29bh1mKjLIZWQHzQH+YE38oPmnj81eF9QImQcp+IPwPbwKqzkp5ftZiDufkFUENP9VDjLjLqbTDSKCqxvvey+RV8F10p9bfjZH+XRr5mg/Km7rzz1+P0VmfruD+UFjyvhvvjcvpVZnPihWH2r/Px3spEvGKlCmLtA7nc5L+6robd/XvrNw4IaV1MbQe1PoXnDbfLQjNPBs8edMaXC7E/N99Tg9/NsRbV+N834XYc5/q34vQ2qGfsQdayJCr/xGtz74CGK9LTS9w8VNawc4oX8YPu00u+R/KC6qOPadp4/EaObIkwcp+IPQPMUZYz6Cpx5XIn7CtL7b1v9VGyHt1716BtJC7o/+74l3zdXHN/71YIcyGeEuo+Tf/Vs/lJV0O276b5VXn5ZDvytvgpr5nk19fC7XBH31VCPZcNcGY2Au+lHT34ULD93N9S7PyXvKeoLxaWez7MFVfzdNP137fP4t+j3NpgG7UMzYk0E+I0XlDUvcu+D58lqFOlpwe9fSKX9MuVPstpd1OUQn8gPtgP5wY7ND5r9u9qGGO0HcbwYFX8Amsfdz4fKGOMz38r3S6DpviheXfqxXH3aBGp3RuLuw2D4W/JSQ/qoqMDdZEC+LN93RvEKuj8uenj/fP8XetLLLT1d9P6agm5fZRRXf/1jeXV4t93xs3bnLrljr3ns8LtcJSVXWovSpfsbmXH6WfFx5TVKRZ+joQtEtU50wuyPx2djHUtVAHx0rkJ/J3V8n1pSpd9NM37XoY5/i35vg2jUPjQq1mhFJwyfz3f8nn9fEPzGCx54Sq7O3munqXQffn7Rvusi6vS0yvevkhrftaK+lHSn/Xob+vOcdY9I2zkiKYf4RX7QfOQHOzc/aMTvqtpn08h9KUUcLxIkjlPxB8CmThKKAoc1RX/7/VtTrqHJTSe/zvZ0XxQP5q/KKUUZibsPg0Km2xSqEFDoS8FkJOa4BNqfm/8qr1Qa1l8tp/s80e9/ddjM8yHQ9i23yYOnThVGgbOWsV/Z+PmCq0Dkdzlv2bMLhVG83OlS63EKQBvuznyboagwZ3vvl/5GkwuzP9ZnYx7r91jH8oNTdsGj6Nb8guCfZwur9Ltp0u86zPFvye9tQI3ah4bFmgrfh5ecioEg+I0battqGz0qX7fS5NoHe8TFkn2IMD2t8/3zUOu75h590nnd+jzVuit8nm2nAeUQX8gPtgX5wQ7NDxrxu6rx2TRsX0oRx0PHcSr+gB3tz9UDoHMLu+vqSRgbn5gHmgrYT/1tSR8fxsanv7P6oSjOSM2y5rmml5v6riuDraBou/UqyUgOjpiHQfZn6145uNdkfKrAkO/zwt35tfLg18r7Eay4L0G2rzKKH5xeURlz8ecZejmt0ndDF/JVukZPV0nXCX8FsFJBPtfSZbPvvu363vxOrqyYh7WE2R/92ajvqbtDa31C/p5atudv3y5csXQL+Puo97fZcBV+N/X8rqspizWBj3+Iz7kpn4ErVn/8Z/Oggjp/e02NNUZpx+/6c/rjH4uXqYTfuJe/yCvONswcTff9M3pvSR9LQdOjrH9sHnhphe9fFVW/aybtXp/naKXP06eK+1VF0XuiKofVUQ6pG/lBRMgPKilN707OD8L8rqrGdqV6/Awfoyt+zyogjoeL410LCwtbL/z038xTAO3i4w9elb33PmWeoR1YI2xZt9j/RVKlHa/qphA/M1fidMe4f2tGZQOahJgCAJ2tEeUQ8g4AaJ4gcbxrzyHZ2rKbqXHHHwA0Sf8ec3VGbpOHHjJ9L2lbu9ujvxgAANC2KIcAQHsLEsfduOMPaFNcYW1Dw0/LxqkaI0pxtx+2CTEFADpcA8oh5B0A0EQB4vjbH77KHX8A0HTpl6XH9P/h7nNDc/q/6Bmj0g8AADQA5RAAaG8h4zh3/AFtiiusAKJETAEABEXeAQCtScdn7vgDAAAAAAAAOph1x18ikTBPAQAAAAAAALSzbDZr/bUq/v764H+3ngBoH3fu+Zz8/pP/NM8AoD7EFABAUOQdANCadHymqS8AAAAAAADQwaj4AwAAAAAAADoQFX8AAAAAAABAB6LiDwAAAAAAAOhAVPwBAAAAAAAAHYiKPwAAAAAAAKADUfEHAAAAAAAAdCAq/gBgO338ijy+53NyZ+n07a/Lj375B7OQi3v5b0/I+2Z2Ze/Ij77trNdj+Y/161+vvt1KaTTT4z/1SCcANAtxFAB2BuI9EAoVfwDQCr5yjzz2xJNmukfkNx/Khb+/W+58/h2zgIffvCav1Cg8fPLTWbnwG/Ok1C8n5PGvPqpe/1DuNtu+22zXs1BSlMbCNNxzh1kAALYRcRQAdgbiPRAIFX8A0AruPCH/9ELSTL+Q33/yljym578xK+c+tpYopgsP6s9v3/4/8ok9x8M78r9Of6iW/Wf5x6+YWS7vv/Oa/FbukX/81X/Km2bbb37yn/LOKVWA8lKUxsJ07GvmdQDYTsRRANgZiPdAIFT8AUBL+oZ8/Qn990P5w4Y1o8Qh+R+6oPGbf5D/9Uszq9QvL8sF9eexb/yN/bzIH2Tj9/rvX0nPXmtG3p7v/ULe/B5XIwG0O+IoAOwMxHugGir+AKAlOQWMe+SOHmtGmT0Hvi13q78X3vFq1vAHOfc/X1N/n5SvV72y+Jr8olIBCADaGnEUAHYG4j1QDRV/ANBy/iDv/zQh/7fuY+Qr35a/LrmymLf3b2RYN0V447JH58P/R9Lq/Xef+oE8YGYVu0OO/V9PWo8u/P3n5PHn36nS9AEA2g1xFAB2BuI9UAsVfwDQCt541DXi190yflp3HPyWvPP/fl/2mEXKOYWQ8s6K31/4B6sfkuEDVZoefC0p7/zvJ62rn79V2/+GHmns+Vfkfa++UbTfz8qPnp8onrxGUAOA7UAcBYCdgXgPBELFHwC0gvzIX/dYBQrdVGHfN75RpfBifO2QR2fF78gv3lB/njghxypd9TT2qELMm5/8VhZPOQWZf5Dxr35dFUzs14vokcveeK14eocCDIAWQRwFgJ2BeA8EQsUfALSC/Mhfv5A3f6VHJlOFhb+fKG+KUMZ0ZuzqrPiTn86azom/Yc+o6Q554HtOQUaPTFZh20+8Jb//5D+Lpxf8bgMAGow4CgA7A/EeCISKPwBoNXu/YY885tEUwcsDiX+2rjranRX/Qf6/tz8U+co/y/+o2jmxF12Q+YUsWqOi0XkxgDZGHAWAnYF4D9RExR8AtKA93zthN0U4/VLtq5fuzop/+ZLVufHdD/9N7eYOANDBiKMAsDMQ74HqqPgDgJZkmiL4uoJ4h/z1w/aVzvG/f039fVK+/70qnRNrH78ij397orxD4o9NPydqHV8PfOUTAFoJcRQAdgbiPVANFX8A0KIe+IYeecxpilCdc6XT8sQhecA8rOo3qsDz1c/JnaogY4829nW586uPWv2c3H3qB+Xr8BqdTE3nGKEMQIsijgLAzkC8Byqj4g8AWtXXfiD/aDVFmJVzpVcYyzhXOn12Trz3+1ZnyP+oR0NTBRl7tLEP5e6vPCmLv/qtvOl15dNrdDI1pTfM6wDQaoijALAzEO+BiroWFha2/vrgfzdPAbSLO/d8zhodCgCiQEwBAARF3gEArUnH562tLesxd/wBAAAAAAAAHYiKPwAAAAAAAKADUfEHAAAAAAAAdCAq/gAAAAAAAIAORMUfAAAAAAAA0IGsUX0TiYR5CgAAAAAAAKCdZbNZ669V8bfrS9+0ngBoHw/HuvPDcwNAvbq6uogpAIBAyDsAoDW54zNNfQEAAAAAAIAORMUfAAAAAAAA0IGo+AMAAAAAAAA6EBV/AAAAAAAAQAei4g8AAAAAAADoQFT8AQAAAAAAAB2Iir+m2ZCL8W55ODYla2YOAAAAAAAA0CglFX9O5VTt6bkLG+Y90dm8MFr3uqNYBwBEIpeUxFCXdHUlJG1mBeLj/blcWi0zpJbRy+lpSBLJtOTM60XUssmEe9kuGUpUWLYWX/uWk7Ta3pB7e0Nq+VAbBLDjpRP5eDKULA8k/uJhTpJW7Ko2DYnH6stEH3+jSxsAtJ0A5dQg8TdQrK7A9zpU+dhd7i2ePMrMAfYZqEfXwsLC1q4vfdM8FVm7MCW//sQ80XLn5UpWpH/gqOztNfOUL9w/J4/sN08ioivtxpNr0j+RkRcf6zFzg4liHY2hK1Vjspg9KtOZORk0c4O5KmdjR+TKwGlZTMWl28zFzqQruLe2tswztJpcckj6JjPmWVxWthZk2Dzzw9f71Ulw10hKPYhJLD4gA5KVVMq8J74iWwvud6gCS9eIpKxlx+Tk4X1yc3lGJvXysXlZX50QV4ivyt++6RPYPrEWi8UkPjAgklXpy1gzZH59VSb8bhBNoQubxBS0LldMUWLz67LqCiKFuFQrHuYknZyT5Y/M0xLZVEoyPmK2/+1pfuNvNGkDmom8A9EIUE4NUP4NFqsrCFLe1hV/fZNq0bjoom+xwzKlli3kXNGVzQEv7vhcVvFXyqlIO3hmU56JuKJvZ6HiD9Gi4q9VFU5OY/MrMrY0oh4HOVHz/35dmDkmJ+XchKsQYQocpSeH6USX6DJLfGVL3OUTZ37pSbS3YGmzClqlBTBVeOqzE+KvsIWm4eQNrcyOKSLz8wMyOalOkzwq/irHQ58XG5yTOx/xKcj2Iom/AdIGNBN5B6IQJE4GKf9GkTcE2Z4zf6BkP7xEkjcAVbjjM338AUCUcpdlKaMLElsqs+4zMwMI8P7eiVW1jKsQovUekrGYfpCVm/l2AmlZVgUIVYKQqZJCyPDUvCr2iGQ+WrdnVOM7bTm5vJRRf9WyJRvsHZ6Seb3B1LJKFQD4kZY560LCSZnYZ2aVqB4PM+InxKXtQFkWt7z431408TdI2gCgvQSLk/7Lv0FidWVBtudfRGVzwKf6K/6uT1l3Hp29LrI2a/ev93BsVC6q57YN2VTLPFfUd+ConPXqg8+sq6h/Ptf6rfU0Yx3arZScrdTf4exVs1AFt67KxfyxUFN8StZumdfK+Ds+a7N6/hG5op9kT8m4s2w+LQGOM4DG6Z2Q1a06mrHW+34vuZuqWFJB7z6xWiJkb0rNcovvtK3LR1a935gcKlu2V/bZGwxZUAKw06QTuilUXFZC3+kWk7tqXYfJJWXGOgnziltBubYXRfyNNG0A0GKiKqcG5iNvaJRt22fsVJHd8XfleLdML4v0Hz4qB61vqm3zwg9k/Ph59eiojJ95XabPnFavr8mVZCzQABxXXhu11zOg1n94UPqlgevQFYVjp+SKk+aJo2pZbVAOTqjnTxywnnm7KmfHjsji8prZjn7veZke0818zSIufo/P4BP2a1Y61HrtZQtpieo4A2hz6TmrKa51Z4yvE8Q+ucu+rCiRXVd0CjMD+4qvjhp99gZ9XWUFsMOZSq/Y/FRZlwK1mYsQ6hRqX414mJ7TTbZ06KynTyX/27P5i7/RpA0A2pHPcmqg8m/QWO2hxvayN9OSTpspF7T6rgFlc+x4ETb1HZTxpUvy4ok5eSZ1KT/wR/fQs7K4tCkvpvRgIAdkcH9cvf66HFSv3XjvXdm0F6tNnUWOm/U8c0JtZ8muBGvEOtau2RVo006aH5szy67Jx9Ijg7vt5bxsXviJdVeeHlzkbWs76r2pTVmc8O7Vz/fx2a1f65W91pM+ucdaVk0mLZEdZwDtJecULJL2qGBWpyAld8Y4zREyS3KZS4cA2kZOkscmJRObl3MhboPOJWdE3ygn8cM1Kg1NkyuJy+GwNxUqnturO/5GkzYAaFlh4qSf8m8F/vMGl4Dby0yOyMiImfr6xB4F2LVzlM3RZJFV/PVPvCSPeFWI7T4g3WXze+QL+q7A7Lp8Zs+oqWz9ux+S+xuyjg35TP/4Bvpklz3DttuudLvxSbW75zbkw/fW1N+j8njJiMLdj70k4647IfMiOj6RrQdAW8ldnjEFi0l7FDAlNnCXesF6aPTKIbt0IZN9uuBhF16SyYQMdRVGyQSAlmLuqAh1p1suKcfs2zFqngg6J4Hh7io0Km6vvvgbSdoAoKUFj5P+yr8eAuQNbr63Z3WLs2UNqOBM6yu6z76MpCb7JJHv4JqyOZqrSYN76P7nUnJxdkrOWtMrcq1io/bt1iO7dOmytLLsetq+k29PcYVesQ35k96v0krDmqI6Pu10nAFEQXc4XChcrKvCRVxUyUJGVCGi6MKiWk6/Fovpgod9BXJyKSsD8/MS1+WO2F2yXd2cAEC5tCTs4Q5rjoxYTr03P2Jj+ajjxczAIeok8GSIuwpt1bcXPv5GkTYAaH1B46Tf8m+xIHlDsXDbs/UOT8iqXl5JzSTzdYWUzdFMja/4swbTiMn48VOyuHxerpjphnm5FQ3ef1T9f16m41Ny8fpVWbug9sHqP29Q7h+qVvEXQlTHpw2PM4Co9arCxYIpXGRkcq543FzrtVWn0KKm1VVZ0ENk6vPKCv3xhVKjU+J1e+SP7etQGUDLy9/pll2WRCJRmGbsK5qZpTnrebJsePCcJIf0YCC6ztDHYETp5eBNvor4216o+Ft32gCgfYQvp1Yv/9oC5g1V+dleib67VMm3XNPK5tjxGlzxtyEXX9OVT4Ny8ExG3s5sminj3ey1JdhptgbmkPOyePyITCft59NLl7ybM+cFbVob1fFpx+MMoOH8jAZmTizjkXYeVa1TYqe/qjo6VAawY2QyKUmlXJMq29gv2M+XioYH1yd2dhOp+MqWjzsF1fL2cLkyPxUmBgbdXomq8bfetAFABwhTTi0r/9YZq2uJevTdhpTNsdM1vOLPbvo6Kt/Z775TTs03j1qPneb+3mF5JuVUoNmDZlQb1MNmmgnLeXmzaCTdDVmb/YHHqL5Bj0+lisV2PM4A6qMLMUOSTJcWNXKqvKCLC0qtK4W5pAxZnRPPS9F5pZ7f1SVdiXTIgozTb0lKZkraP4TqUBnAjlPcrMo1meZSsfl16/lq/rYN94ndur8TO2dUxtiYHKoULCvGwxDbc6sUfx1+0gYAncwzTgYt/waI1Z7xPoLytl6HHqhKPYqNHQpXNgfq1OCKvwNy32H1J3tKzsymZO36Vbmom83GjsiVskqwVmFXrt1YPiIPx7oLU3xUnrOa/lYb3ENk8AkzUnAyZi2v+9rTTXCnl0X6y+6+C3p8ChWLuhny2VmVptmr6nk7HmegU6mCQL5Z2pws6VxesjLjzEu6CxNpSegCRldCPXIEeX9GJkfMSGHmdd0hsC4vqOJNUafF6YTeTmG5xJB67vRzcq6k4/z1j6zCiaSWS+7Y85+23omTKgUqhZMqfUPmdbXNPutMNliHygBQSzphn9jpURZl2W4GXDSVtwnOn7RVHTykQjwMsr1A8dfwlTYA6BDB4mSQ8m+AvKFi+dfv9lS5XqV7aMi1H3oEYGewjpIR6sPkDUBYXQsLC1u7vvRN87Tc5oVRGU+uycEzm/LMfjPT7fqUPHz8vPRPZOTFkpFsbRtyUd/ttqxHu9V0c9SX5L5rujLsqExn5tQcw2tdFdev1huPyWI2+nXY+yxycOJZue92e95n19JyzfSZV/FYOG5dlbP/VKh06z98Wh5/QgWbN7rL9znI8bGodcdd687vU9D1oN3pCml9twNaja7Ms/sQ8aYKCFtOh8LOsl7zKnEvm5N0ck5mllLitH6TWEziYydlamK4qMCQSyfk2IxrOVWoiMVPyjlVWCkrWOirjbrgEV+R9aLXg6RNyaUlOTeTH/3M3uaY2iaFmVbU1dVFTEHrU7GsS51t6Tv+vO72q0idcK2vumKPE+dK55fyjIfBthco/mp+0wa0APIORCFYnPRb/g2YN1Qs/wYpbydlbmap0C2Fppc9eU4Whov3JHDeAATkjs81K/52nGoVmbdS8tzYKblx+HV5+8QBMxPYHlT8dQBXAWNLZfLAduLkDQAQFHkHALQmd3xu/Ki+bWbzU3sc3L23l1T6aX9at+7469/j8RoABJS7vGTfzk8nHgAAAACABqDir0T30KjVR9+V47r/PLu/PKvPPN2f3vHz6pWj8njpnYAAEFha5nTbg/hJcXX3AQAAAABAZGjq68Xqo+8nciXr9JenDUr/4Wfl+IkD0m3mANuJpr7tLZcckr7JgeI+8YBtRHMtAEBQ5B0A0Jrc8ZmKP6BNUfEHIEqcvAEAgiLvAIDW5I7PNPUFAAAAAAAAOpB1x18ikTBPAQAAAAAAALSzbDZr/aWpL9CmaOoLIEo01wIABEXeAQCtiaa+AAAAAAAAQIej4g8AAAAAAADoQFT8AQAAAAAAAB2Iij8AAAAAAACgA1HxBwAAAAAAAHQgKv4AAAAAAACADkTFXyQ25GK8Wx6OTcmamQMAAAAAAABsp5KKP6cCq/b03IUN857m2bwwum3bBoDAcklJDHVJV1dC0maWPzlJJ4ZkqEu/156GhtQ6cuZlt1xakmpZZzlr2URaraFcTi2bGHIvOySJpPeyFZntlaYt6Zk4rXxfulQaVBIBoLbQcdTw9f4AMdctnci/ZygZKJLafKQtkrgNAK2u0WVmtf6ismjR5LHNwOVdL9uUtwAeSir+emTXg0fl4GHXNGC/0j9QPP/+23vsFyJ3Vc7qysV4SjbNnJ1hp+430JlySXWi1jcpqYyZ4VtOkkN9MqLemInFJB6PS1z9zWRSMtI3JMX5vzoh7BuRyZRILD4vKysrMh9Xy6ZGpG8oWXRiqNPTp5bV6YnpdarlRDKSmlTL+q6FK2xPzPZW5uNqNSmZHOnzqMxTy3fpfVEPneVX5iWu8pXszWDFOgA7T/g4avP3/iAx1029byalomg4ftIWTdwGgNYWPtYHj9+xmI6lpdNh6TOv24KWd71sT94CVFLW1HfwsTl55kRh+s6Dg9b8vU8Wz39kvzW7qbofuyRvZzblxccaVekIAPXSGX2X9E1mJDa/IvP6PC2AXPKYqLeqgsaKbK2uysLCgiyov+srqsChigGTc4XSRjqhTgjV3/jKqqwuTMjw8LBMLKyKveikHCspVej0rG/pZdU61XJb6/NiJS81U6UAUpBLzpRtb3hiQVbNelLL7pKQPg46fTGZX3ctPzxhbXt1YtgsBwCl6oujQd4fJOa62e9T8U2fDAYSbN/qjdsA0LqCxcNSYeL3wEkdS0unYek1r2vByrvemp+3ANXRxx8ARCl3WZZ0hr2+JasTxdcPa8vJ5SVdSlDvnyquGOsdnrILRKll0xwhLcu6VBKbl5JFZXjKLphkPlq3Zyi9E3Zlm7tgI72HZMwqZGXEtWhF6x/ZabvLz25Zx0En75xMFG0UAGqoK44qvt8fJOa6pWVOn9HFT8rEPjPLrwD7FkXcBoCW1bQyczCByruetiFvAWqIqOJvQ9ZmR+U50/+f1Q9ffErWbpmX89RyF6ZKlkvlB8RYm9XzjsgV/SR7Ssad5WavWq/L9Sn7Pe4+/sy8s9dFNtXjwrpH5WylvgBvpeRspb4MnW1VcuuqXFT7ml/ecz8dG3aairZVnq6a++1zPQBaQO+ErG6thqzsWhe7rDEmh8re3yv7rK4XsnJT3+WRu6keVdC7T+xFb6qihx/+Cjd9d+mSSkaWLhevNXd5Sc1Va3GtxJ4Xk7HyHQGA6uqKo4rv9weIuS723dZxWVkoueriR737llfPSSkAtIBmlZkDClLe9bYNeQtQQwQVf3pAkJhML6uHh0/L9JnXZXriqPoun5fpsVG56KoUW5tVyyXPFy8nl+Qzs8zgE2remdPSr58MHJVxvYyenjhgvV7NlddGZfy4WrfVF+GgWseaXEnGygcC0RWFY6fkipj1qzRY25NBOThRa1tX5ezYEVlcXjPb0e/V+xmTRY8z8M0LP7DT5GxL7dvBgfJ01dpvv+sB0OacyryBfcV3eBhOQaT2XR59Yi/6kSp6VGMKJjIg+3wUunonzllXKTOTfTKUSEo6l5O07oPKujq5IudcJTf7aqkq2azrzpqH8p0a0zE9gJYRJubmkjKTUudz81OyPadmweI2AHSkkGVm3cd0Om0mVY71EqS866kt8xZ0uror/nSllK70Onjmkrx4Ii6D+w9Y/QS+uKQrstZk8Y3CXWuf6d/WwGk57l4udUke2W0vIbvVvP29std60if36GX05LxejUrD+NKmWp/ug1Clxdq+yI333i0aLGPtml2BNq2We6QkrR9LT9VtbV74iXVXXv9ERt62tqPTvymLE3Y/iKW6h56VRZMma1v74/JM6nU5qF4rSleN/fa9HgA7h9PcK7MkJRckfXP6MJH4YZ+FjF6ZWF2XFWsAkUkZ6euTEVUIis2vy1ZR/yg5uWmVeFIyOTIp2YExmXcG9ojRMT2AdpWT5LFJycTma5/4NUjwuA0AcGRUGXRkxEyqHGtfkC4tSPst70Zl+/MWdL46K/425MP37Lvf7vvChmzeck3qJ7FX38aayxVXTGUvyYfXo79LrX/ipUIForb7Iblfbz+7Lp/ZcxSn8rFPdtkzbLvtSrcbn1RLl9lXOSqPlwwu0v3YSzJu3bJbYvcB6S6rSOyRL5Slq4ao1gOgg/TKIbvmTyb77Lvo9NXLZDIhQ119dofC1eSScsxaKGCTgtxlWc7q98UkFtPb14WoYx6FJi1u99uyMCETzsAeqiBVT78rALBt0nNWbI2fnGjAiZ8PYeM2AOx0VrPiLdlyTesruk9sfUHaY6TeQOXdOm133oIdoe6Kvz/puzqsZr0xGS+ajsgV644PR4888iO7ieri8Zg8HNd91F1t8t1qPbJL/5pKK8uup+07+fZUGy3Y7GtppWFNun++lFycnZKz1vSKXCs6Ln5FtR4AnUJ3/K5HB4uZu+j01cvJpawMzOs769QCsbvEuxeStCT6JlVRR3eovOD/rpF0QrrU+1IyLyt6pN5VPcKkHoXNLjR1edzFV94UzenbJCU+BkUDgBah4uZISp2Zrcj21LmFjNsAAE+9wxOyao2yq0qlM8lCNzQhyrvhbXfegp0imsE9Bk7L9FJGFr2mVFy6zWKyWzdR3ZRF3Ued1QffERmPFfcD2GiD9+t+Bc/LdHxKLl6/ag82YvWfNyj3D1Wr+AvBGmwkJuPHT8ni8nm5YqYb5mXfoloPgNZWY1AOr1HGeocXVIHEdQVTFU4W9FBgelHPvkVykhzSnQfrMkaQDpVNwUTfabI6IcPO+3qHreYQ9l18M2JfCK2vU2UAaIoAMddpYhvLLksikShMM/ZV2MzSnPU82ZALGmHjNgB0qBBlZk99d6ml3IKUdytom7wFO0mdFX+F5qayu0e6vSZ7wSLdVh91ugJQV8K5+wFstA25+JoZAETOy+LxI/ZgI+r59JKrr0FPQZvW2tu6oQcNOZORtzObZsp4NwuuKKr1AGh91QblSMuyLhmookTNDt3Ty/YJ4uHSS4f65NFuBhxf2Qp2ZdHpqNjzLkKnoq+g8kAkOdP/HyNSAthuwWNuJpOSVMo1qfKY/YL9fCnyqx11xG0A6FgRlZlLBSzvemuHvAU7Td0Vf/c8qAe2OC9veo0ua/X3Zx576N4/bA1QUayRfdfZzXX7e4etikenEk0PmlF7ABHTTLhsXzdkbdYe4KSY0zR4VL6z330noZpvHhWrtN9B1wOgfTn99qVkpuRSou8O3XNJGdJXKmPzMlW0oPvkcb36yaNehx6BN+Eafde5eulZiHEq8wqFmF5TMipqOqGZfkwkNiaHghbGACBS/mOu7lrB3TdUfjLNxKxO39XzVed2PK84GliAuA0AO0oEZWYdY/WgGupRbOyQWqMSsLzrHesbmLcAIXUtLCxs7frSN83TcpsXRmU8uSYHz2zKM/vNzCJX5WzsiN1H3uHTcv/9vbJLfe0/u3ZJFpfXrBFwX9SDYdxKyXNjl0QOj8rjahn9w/n1a6esfgBL17022y3Ty+qBvjOv94Z8LM/KiycOWE1eHz5+vrBOzWueZUMuxmOymD0q05k5scfddeZZTwoGBqVf/bv/ye/LI0WVayWsfThlNbHtV2nbq3bjY6vJrXr/wJrcKNpWYT/0cdH7/NmnabmWdJroFi+rVdrvoOvBzvBwrNvKCNBqcpJOzIn+KWvZVMrqkykWH7ALEncdlqkJZ0SwtCS6dPOtuKxsOX02OfOUWFzU2/RKJGVd+HMvp5ZMdMlIKiZxayElv5zuA6q4OZi9rHrgrLOUSteCSpdF923iNHNwbS+XHJI+fQYaU9scOymH96mZN5dlZknto56tCieFgknhhFWnx0pjNmuuYJanD9uvSxVciSloDfXG0TDvV2rEXE8mXhbHP6VCHA2StkBxG9gm5B0Ir1llZrXc0Ihk1boHBpxgqsqk9oLqvfOyvloYWCNQebdirG9Q3gIE4I7PEVT8afZdb28ur5nKKGXgqIwXVaT5WcZxVc7GC4OD5Cv16q74c/ZH5ODEs3Lf7fa8z66l5ZrpM6/6fiq3VNr+yZU2XRn3RFzkDV05V1oJp9Kg7wZU+2zTzXVfkvuuxTyW1Srsd+D1YCeg4q9VuTJ6T14FlpICQC4tybkZmXQKJFYhaEzOLRSP9pVThYJjM3YhxKaXO6mWcwpJDnclXAXuQo++eqk7kY+vyHrJunLppMzNLJkKPFtMFWjGTk7JRL4jFIcu0B2TGbUf+T2Jz8vJKVefKWgZnLyhddQbR4O8X/EZcz1VOjmrGEf9pi1g3Aa2CXkHwqs31iu+y8zl5VerYu/kOVnwKJT6Lu9WKTM3JG8BAghU8ddRKlYSKs7dfIdfl7f13YVAi6PirwO4CgtbtOHCNuPkDW2JOApsK/IONAWxHgjMHZ+jGdW3TWx+at9ruPf2kko/7U/r1h1//Xs8XgOABshdXrKaNMwXd8YHAPCJOAoAnY9YD9RnR1X8dQ+NSr/6e+X4qDw3m5K161et6eKsen78vHrlqDxeeicgADREWuZ0G674Sfq6A4BQiKMA0PmI9UC9dlZTX83qo+8nciXr9JenDUr/4Wfl+IkD0m3mAK2Opr7tze44eKC4nxJgG9FcC+2GOApsP/IONBqxHgjHHZ93XsUf0CGo+AMQJU7eAABBkXcAQGtyx+cd1dQXAAAAAAAA2CmsO/4SiYR5CgAAAAAAAKCdZbNZ6y9NfYE2RVNfAFGiuRYAICjyDgBoTTT1BQAAAAAAADocFX8AAAAAAABAB6LiDwAAAAAAAOhAVPwBAAAAAAAAHYiKPwAAAAAAAKADUfEHAAAAAAAAdCAq/hDcratycXZUHo5156fn4ilZu2VeBwAAAAAAwLZrmYq/zQt2RdJzFzbMnOg0ct2tqLH7e1XOjh2RxWWR/sOnZfrM6zJ+eFBuZE/J9NiUrJmlANQhnZChri7pUtNQMmdmlsqpxYbyy1nT0JAk0ublGnK5tCTU8vn3dqn3JtNqrTX4ShsANEOtOJiT5JDrNc9pSMpDWX3xVVR8TZa8f2goIcl0ecwMHYsBYCfJJVWs1DEyIZVCse94qtZVFN+Lpsrr9+YzvwiQLwCN0EF3/F2Vs/rus3hKNs2c1tMOaaxu88JP5Ir62z/xkrx4Ii6D+w/IIycuyfRh/ep5+fV1/devqI5H+x9XoECdqM6kJGOeeVMFm64+GUmph/F5WVlZUdO8xAdEsjdrF1dyySHp6xuRlNpILB6XeDym5mYkNTkifVXPbP2kDQCawV8c3DemY5z3pCOfyIDs67UeGPXFV+v9Kr5Out8/H1chNiWTI31FJ4PhYzEA7Bw6Vnb1TVqxspIw8TQWK84T7Omw9JnXa/ObX/jPF4BG6VpYWNja9aVvmqftTFf+HJErA6dlMRWXbjO3tbRDGqvTdxOOJ9fk4JlNeWa/mamszXbL9LKUza8uquPR/sc1DH1X59bWlnmGTmEVXCZF5ucHZFKVEGLz67I64T4r1Xew9MlkJibz66tS9JJPehvH5KScmxiW/Nv11U+14Yw6Fa603tppQzvTV5+JKWgP9cdBffdylz5bi6/I1sKwmRlNfO2bzKjVbkl+tZoTY13bCxuLgVZC3oHGcWKyqDLniowtjajHcVnZWhB3eNUCxVMzf6A0TgfiP78Iki8AUXLHZ/r4QyDdt/dbf69cu2r9tdxKyZvL6u/AafmO70o/AOXSMqdLN/GTMrHPzCqVuyxLVgHoXOgTwt6JVVl1F4y03kMyZt3+kpGP1q05JXykDQCaIYI4mF7Wt16oE7Yp18lWBOtd/0itQK33Lh+3jISLxQCwQ1gxWVesbalYWT2oNj2eBsgvguQLQKOUVfzpO7f0nURnvZpsXp8q6TtuQzbVvOfi9nvsaVTOevUtZ96r17uWHxhiVC462ylbt+Zv/Xaaj1hNUCV7SsadZWdN5ZTnurUNWbug1p9ft5riav3Xq6ffSlP+PRX2t4TfNFY8PiGOddH+1pn+vP3fl/EB9Xf5J3LxllnX2Cm5IUdl+kf+77areTws6vNRx8L9+TwXnyoaRKT2eso/Y2sgEvMq0ErSiRFJSVxWqlz1y11esq5cjh0KeVZak3fBxE/aAKAZ6o6DuaTMWPV+Y+JeRRTxte8uu3nZ0uXifpvsdatN+j7z4yQRwA7XOyGrW1Hc+Rx9PA2SX0SXLwDhlVX8DT5xWvQ9XUV3dBlr186r/wfl/qEe6/nmhR/I+HE976iMn3ldps+cloMDa3IlGas4sMSV43aT0P7DR9WyZmYFftc/+IT9mnUv2oCzrJqeOGC97m1DLsZjMp08LzcGBuWgTs/hQenPqvUfV+svqoAquPLaqJ0mtR1ream+vw6/aax0fMIcay9h01/QI488eVT9XZPFsW57XYdfl8XMnAzutpfwo/bxMJ+PvpPQDCIyPaG2mz0v02OjVqWjVms9a7P2Z1y0DrkknzECMVqNORGNzU+VNV9ws68aquCwrjs5jrJD+HWxVl3W35XiM20A0Az1xsH0nG76pW9gnii6OySK+No7cU7m1TleZrJPhhJJSedykjbNvHSz4nM1z2CrxGIAQADV46nuhy+dNpOK1UEEyS/qzxeA+pU39d39kNyvK5yW0yV3RV2VX1vNOUflHlPB0z30rCwubcqLqTl5ZP8BGdwfl2dSr8tB9dqN996tMNDCoIwvXZIXT8ypZS+p95nZHnyvf7d+rVf2Wk/65B5rWTVVqYjSFWmLWfXg8OvytkrHMzo9J1S6Mmb95o62Muo94yZN1vJLdqVT5f01fKfR+/iEO9YewqY/b0MuXrthHisDp+X4iQOuO/10hV137YE2ahwP5/M5eEYfC3sQkcHH5kx612TxDVMxW3U9G/KZjrpWGl3r0Me1yncDaL6cJI+pE9HYfI3MPyc3ddwS3RnwpGQHxmTe6Ug4Vl+H8LnkjFqrEj9cUrnnN20A0Az1xsG0WK18JS6Hi4JdVPG1VyZW12UlHpNMalJG+vpkRJ3c6T5RdR9OtaJo5VgMAAiiVjzNqLg+MmImFavtSjs/FYBB84v68gUgCh59/PXIPQ8Oqr8lI7ReT9ujuT74UKGSZ/cB6S6rQOmRL+iKw+y6fGbPKKJHg/Vd6RJi/f5syIfv6WrNozJ9ovSuwAPynQm9/2tybbX8Lriy9DsVpXWlp6Di8YnoWNSXfvsuvMVlPbhHxh7JVzevrXB3ZHjm8xk4Kvd9YUM2b7kmFRr36vTmcgEqOy/Jh17Nt4FWkZ6zOi4uvfuksrjd38nChEwMD8vw8IQsqAKFvpooqWV1WhtQLinHdAK8mvIGThsANEO4OOicCFa+gzmC+Jq7LMtZHVNjEovpN+oTzGO1TyirxWIAgH/V4qnVhHjLGvTAmdZX5lXE1pV2QUbZDZBfhM0XgIh4Du7RPTRq3QXmbu5b2sy3QPc9l5KLs1Ny1ppekWtWDXhUGrH+DfmTXsdAn+yyZxRxBrC48UmrVRY1+lhX59yF1z+RkWf298jgiYzp7+9IoU+9W+/aaertrWN0XfP5WM16YzJeNB2RK773uUce+ZHdJHrxeMzuv/HCVf8VhkBTpCVhRpYMcp5X3mShV/bp36M6pV0OVPOntp8f8ax0lLRwaQOAZggeB80gRepk7WSVO5jriq96tGAVU1MyLyvrq7K6uipb6yvqRNA+oeyqeEZZLRYDAPwLHk97hydkdSVuPU7NJMVvdZyv/CJ0vgBEx7Pir9Dc12nuapr5Hn62+G4xa5CImIwfPyWLy+fliplcDUHr0+j1t5NtPxbOXZLuyt8eeSRVXPm3tnrJStPB+6v1r+jTwGmZXsrIoteU8jmQyG7dJHpTFnWfiFZ/hkdkXA+aQh9/aBH5u0+yy5JIJArTjF3DnVmas54nrTKBU5jIys1ILhDmJDmkB+3QdXvlnScHSxsANEMdcTC9bMU072ZfUcRXc7FE32GyOiHDTkztHbaaedl3gcxI+Q0e1WMxAMCvOuJp311i34tXS5D8Imy+AETLu+JPV+iYARys5q6mmW9xZc6GXHxNVzwNWs0+385smslUBNWtkeuv3kR281O7Oq1/T+ndjdul0ce6HsWVf9NJ3UT3tHynSt+NtRU+H9ndI91ek72gb91Wn4i6AtAMTOL0EQi0iEwmJamUa1K/b/sF+/mSKVk4I4N9pH4exXKmvxG/I5fpglGf3Yx3ZavqHX1+0wYAzRAuDqqYZw/lK/NT3gGv7viau6m7UlaL3SXlizkniqX8x2IAQDXNi6e+84tQ+QIQvQoVf8r+4fzAERetZr5H5b6iyhynueyofGe/u4JMzTeP6hN0/UH6u+uRXVZt+3l5s3Q021tX5f/RlVeezZrrFbZ/wkYfaz+cY2ZXmhU3l+2Re548ao+sa1H75+uOukrHo9DPZNnno1n9/ZnHFv/Htdt8r4FW0TuxWtTHSH4yzQ2sjn/V81VzybLXlBDKmiGYvvgkNiaHnKuJuaQM6RHGEqWjUboLRusVC0ZB0wYAzRAoDjqqvWbUHV979+kxHtW54EeqJFQqZ04G3aNL+ovFAIBa6o2n6v16MDv1KDZ2SAph2rss7Tu/CJwvAI1RueJPDsh9ZvCGRauZ77DoqpiCwutnZlOydv2qXLygm6MG6YOtmqDrL1TmTcd1/3ej8lyVQScGT5gRcZOm7zerz7xReVj3IafmBxqExLdgaSxo9LH2xzlm+s4+3VzWPmY6Hd0yfvy83Bg4KuN6YBSrbz69bzVG9q1yPLofezb/+ej1XFT7vGb1b6g/o5icKRp4pcJ6bqVU2ux06GOm3382bn++kTRFBrbD8JTdLCAzKX169DHd9HZoSLqsZgQxmT/nGoRj/SOrAKM7GHYXNtIJu2Aksbj6PdvNdYsm2u4CaGVB4qCRtofyrT5QUd3xdVim7HZbMqLep2NpOq2mZEKGzAmpe1ARYjEAVJNTcdKJiXOyZAXdrMy4YqRT6eY/nqZVXO9SMdnEeGtScb7Lef+8nHNf0K5QlvafXwTLF4BGqVLxJzJ4v24WaT2S8SfKK0qswR0OD8qN5VMyffyILCZvyF5ntNcIBF2/VTGlq9Szuv+7NZGqTXUPyDO6qaxaf392zfSZtyb9uvJKbePFx6K+288WLI0FjT7W/tjHbFofM91fntPP4IDdBHkxNSePPHZJ3l7S+7im0lr7DrzKx6OwLVH7vKj2eVr3b5jr9/x8PNez+yF5XB8fc8z0+6+I/fk+U1dTZGA79Vp9gqzEY6pYkck3vY3F7Q6Di26+c/oqiR92NS9wri4qpU14nWnpZvHVSwBoKQHioJZLit3Kd14qtPI16o2vag0Tq9bokPq+6NTkiIyMqGlSbzwu8yvrrjukicUAUN26LLtiolUBp/7POPMmncq4IPF0WKZOzlt34RVe17VvMetOwa3VkotDFWJ9kPzCf74ANE7XwsLC1q4vfdM8BdAuHo51W80sASAKXV1dxBQAQCDkHQDQmtzxueodfwAAAAAAAADaExV/AAAAAAAAQAei4g8AAAAAAADoQFT8AQAAAAAAAB2Iij8AAAAAAACgA1mj+iYSCfMUAAAAAAAAQDvLZrPWX6viLx6PW08AtI//+I//kL/6q78yzwCgPsQUAEBQ5B0A0Jrc8ZmmvgAAAAAAAEAHouIPAAAAAAAA6EBU/AEAAAAAAAAdR+T/B3aeEvY6606SAAAAAElFTkSuQmCC)"
      ],
      "metadata": {
        "id": "_zBqp0Z5hkFb"
      }
    },
    {
      "cell_type": "markdown",
      "source": [
        "- For non-technical stakeholders, an RMSE value of 1058.04 (Tunned Random Forest Model) for predicting Item_Outlet_Sales means that, on average, our model's predictions differ from the actual sales values by approximately 1058.04 dollars. In simpler terms, it suggests that our model's predictions may be off by around 1058.04 dollars when estimating the sales of an outlet.\n",
        "\n",
        "- In comparing models, we use RMSE (Root Mean Squared Error) to assess how close the model's predictions are to the true values. A lower RMSE indicates better predictive accuracy. Our tuned random forest model achieved the lowest RMSE of 1058.04 for predicting Item_Outlet_Sales, suggesting it provides the closest predictions to the true values compared to other models. Although it showed a higher variation between training and testing data (125.68) compared to linear regression (46.24), its overall RMSE was still lower (1058.04 vs. 1092.86). Therefore, despite the variation, the tuned random forest model remains the better choice for predicting Item_Outlet_Sales."
      ],
      "metadata": {
        "id": "Y_ZvooRokdfX"
      }
    }
  ]
}